{
 "cells": [
  {
   "cell_type": "code",
   "execution_count": 2,
   "metadata": {},
   "outputs": [],
   "source": [
    "from itertools import product"
   ]
  },
  {
   "cell_type": "code",
   "execution_count": 3,
   "metadata": {},
   "outputs": [],
   "source": [
    "def tableaux(n, k):\n",
    "    min_tab = list(range(1, n*k, n))\n",
    "    offsets = product(range(n), repeat=k)\n",
    "    # print(list(offsets))\n",
    "    for offset in offsets:\n",
    "        for idx in range(1, k):\n",
    "            if offset[idx] == 0 and offset[idx - 1] == n - 1:\n",
    "                break\n",
    "        else:\n",
    "            yield tuple(m + o for m, o in zip(min_tab, offset))"
   ]
  },
  {
   "cell_type": "code",
   "execution_count": 38,
   "metadata": {},
   "outputs": [
    {
     "data": {
      "text/plain": [
       "21"
      ]
     },
     "execution_count": 38,
     "metadata": {},
     "output_type": "execute_result"
    }
   ],
   "source": [
    "len(list(tableaux(3,3)))"
   ]
  },
  {
   "cell_type": "code",
   "execution_count": 4,
   "metadata": {
    "scrolled": true
   },
   "outputs": [],
   "source": [
    "def covers(tab1, tab2):\n",
    "    diffs = [t2 - t1 for t1, t2 in zip(tab1, tab2)]\n",
    "    if all(diff >= 0 for diff in diffs) and sum(abs(diff) for diff in diffs) == 1:\n",
    "        # do colors\n",
    "        return True\n",
    "    return False"
   ]
  },
  {
   "cell_type": "markdown",
   "metadata": {},
   "source": [
    "The below cell implements the algorithm from section 3 of:\n",
    "\n",
    "Eppstein, David. \"Algorithms for drawing media.\" International Symposium on Graph Drawing. Springer, Berlin, Heidelberg, 2004.\n",
    "https://link.springer.com/content/pdf/10.1007/978-3-540-31843-9_19.pdf\n",
    "\n",
    "Note that the equations for X_i and Y_i on page 176 actually compute X_i + 1, Y_i + 1 (at least as given here.) As best I can figure, if implemented as written in the paper, the vectors become identically zero."
   ]
  },
  {
   "cell_type": "code",
   "execution_count": 5,
   "metadata": {},
   "outputs": [],
   "source": [
    "def basis(tabl, N):\n",
    "    def dot(v, w):\n",
    "        return sum(vv * ww for vv, ww in zip(v, w))\n",
    "    k = len(tabl[0])\n",
    "    \n",
    "    X = [None for _ in range(k)]\n",
    "    X[0] = 0\n",
    "    for i in range(1, k):\n",
    "        running_max_X = None\n",
    "        for j in range(1, N):\n",
    "            this_slice = [x for x in tabl if x[i - 1] == j]\n",
    "            last_slice = [x for x in tabl if x[i - 1] == j - 1]\n",
    "            if this_slice and last_slice:\n",
    "                xp = min(this_slice, key=lambda p: dot(p[:i], X[:i]))\n",
    "                xq = max(last_slice, key=lambda q: dot(q[:i], X[:i]))\n",
    "                this_max_X = dot(xp[:i], X[:i]) - dot(xq[:i], X[:i])\n",
    "                \n",
    "                if running_max_X:\n",
    "                    running_max_X = max(this_max_X, running_max_X)\n",
    "                else:\n",
    "                    running_max_X = this_max_X\n",
    "        X[i] = -1 + running_max_X\n",
    "\n",
    "    Y = [None for _ in range(k)]\n",
    "    Y[-1] = 0\n",
    "    for i in range(k-1, 0, -1):\n",
    "        running_max_Y = None\n",
    "        for j in range(1, N):\n",
    "            this_slice = [x for x in tabl if x[i - 1] == j]\n",
    "            last_slice = [x for x in tabl if x[i - 1] == j - 1]\n",
    "            if this_slice and last_slice:\n",
    "                yp = min(this_slice, key=lambda p: dot(p[i:], X[i:]))\n",
    "                yq = max(last_slice, key=lambda q: dot(q[i:], X[i:]))\n",
    "                this_max_Y = dot(yp[i:], X[i:]) - dot(yq[i:], X[i:])\n",
    "                \n",
    "                if running_max_Y:\n",
    "                    running_max_Y = max(this_max_Y, running_max_Y)\n",
    "                else:\n",
    "                    running_max_Y = this_max_Y\n",
    "        Y[i-1] = -1 + running_max_Y\n",
    "\n",
    "    return (X, Y)"
   ]
  },
  {
   "cell_type": "markdown",
   "metadata": {},
   "source": [
    "The below cell has the goods.\n",
    "\n",
    "It should generate a pdf."
   ]
  },
  {
   "cell_type": "code",
   "execution_count": null,
   "metadata": {
    "scrolled": true
   },
   "outputs": [
    {
     "name": "stdout",
     "output_type": "stream",
     "text": [
      "[[0, 1, 2, 5], [-17, -15, -11, 0]]\n"
     ]
    }
   ],
   "source": [
    "N = 3\n",
    "K = 4\n",
    "\n",
    "lNK = list(tableaux(N, K))\n",
    "\n",
    "# Matrix-vector multiplication\n",
    "def mult(M, v):\n",
    "    return [sum(vv * ww for vv, ww in zip(v, w)) for w in M]\n",
    "\n",
    "B = list(basis(lNK, N * K + 1))\n",
    "B[0] = [-1 * a for a in B[0]]\n",
    "# print(list(zip(B)))\n",
    "print(B)\n",
    "\n",
    "# I was playing around with trying to rotate it here,\n",
    "# but need homogeneous coordinates and ugh\n",
    "th = 0\n",
    "rotate = [[cos(th), sin(th)], (-sin(th), cos(th))]\n",
    "mult(rotate, mult(B, lNK[0]))\n",
    "\n",
    "pos = {v: mult(rotate, mult(B, v)) for v in lNK}\n",
    "\n",
    "G = Graph([lNK, covers], pos=pos)\n",
    "G.set_latex_options(graphic_size=(5*B[0][-1]*K, 5*B[0][-1]*K), vertex_size=0.1,\n",
    "                    edge_thickness=0.05, vertex_labels=True)\n",
    "view(G)"
   ]
  },
  {
   "cell_type": "code",
   "execution_count": 253,
   "metadata": {
    "scrolled": false
   },
   "outputs": [
    {
     "data": {
      "text/plain": [
       "([0, -1, -2, -4, -8, -16, -32, -64, -128, -256],\n",
       " [-512, -511, -509, -505, -497, -481, -449, -385, -257, 0])"
      ]
     },
     "execution_count": 253,
     "metadata": {},
     "output_type": "execute_result"
    }
   ],
   "source": [
    "# Verifying that, as in Eppstein, we get X-coordinates that\n",
    "# are powers of 2 for a hypercube.\n",
    "def hyper(d):\n",
    "    return list(product([0, 1], repeat=d))\n",
    "basis(hyper(10),2)"
   ]
  },
  {
   "cell_type": "code",
   "execution_count": 19,
   "metadata": {},
   "outputs": [],
   "source": [
    "weights = var('a b c d e f g h i j k l m n o p q r s t u v w x y z A B C D E F G H I J K L M N O P Q R S T U V W X Y Z Xp alpha beta gamma delta epsilon zeta kappa nu phi eta lmbda mu')"
   ]
  },
  {
   "cell_type": "code",
   "execution_count": 52,
   "metadata": {
    "scrolled": true
   },
   "outputs": [
    {
     "data": {
      "text/plain": [
       "[{f: 1,\n",
       "  B: 1,\n",
       "  e: 0,\n",
       "  q: 1,\n",
       "  d: 1/4*I*sqrt(47) + 1/4,\n",
       "  I: (r399*r400 - 2*r400 + 1)/r400,\n",
       "  H: 1,\n",
       "  Q: 0,\n",
       "  w: 0,\n",
       "  D: -((r394 + r398 - 8)*r400 + r399*r400 + 1)/r400,\n",
       "  s: 2,\n",
       "  g: -1/4*I*sqrt(47) + 1/4,\n",
       "  beta: r398,\n",
       "  alpha: 0,\n",
       "  epsilon: 1,\n",
       "  kappa: -r397 + 2,\n",
       "  V: r396,\n",
       "  J: 1,\n",
       "  R: 3,\n",
       "  x: 4,\n",
       "  E: 0,\n",
       "  m: -1/4*I*sqrt(47) + 7/4,\n",
       "  t: r392,\n",
       "  h: 1/4*I*sqrt(47) + 7/4,\n",
       "  zeta: 1,\n",
       "  W: -r392 - r395 + 6,\n",
       "  K: 1,\n",
       "  S: r392 - r393 + 2,\n",
       "  U: r395,\n",
       "  y: -(r399*r400 - r400*(((r394 + r398 - 8)*r400 + r399*r400 + 1)/r400 + 6) + 1)/r400,\n",
       "  F: 1,\n",
       "  n: 1/4*I*sqrt(47) + 1/4,\n",
       "  u: 1,\n",
       "  O: 2,\n",
       "  a: -1/4*I*sqrt(47) + 1/4,\n",
       "  j: 3,\n",
       "  i: 2,\n",
       "  Xp: 2,\n",
       "  X: -r396 - ((r394 + r398 - 8)*r400 + r399*r400 + 1)/r400 + 1,\n",
       "  L: 1,\n",
       "  T: r394,\n",
       "  z: -r392 + 4,\n",
       "  G: 1,\n",
       "  o: 0,\n",
       "  v: 2,\n",
       "  b: -1/4*I*sqrt(47) + 7/4,\n",
       "  k: 3,\n",
       "  Z: 3,\n",
       "  N: r393,\n",
       "  phi: r399,\n",
       "  gamma: 2,\n",
       "  Y: r397,\n",
       "  M: 2,\n",
       "  nu: 1,\n",
       "  eta: 1,\n",
       "  A: 1,\n",
       "  p: 1,\n",
       "  c: 1/4*I*sqrt(47) + 7/4,\n",
       "  l: 1,\n",
       "  lmbda: r400,\n",
       "  P: 1,\n",
       "  delta: 1/r400,\n",
       "  C: 4,\n",
       "  r: 1,\n",
       "  mu: -r400 + 2},\n",
       " {f: 1,\n",
       "  B: 1,\n",
       "  e: 0,\n",
       "  q: 1,\n",
       "  d: -1/4*I*sqrt(47) + 1/4,\n",
       "  I: (r408*r409 - 2*r409 + 1)/r409,\n",
       "  H: 1,\n",
       "  Q: 0,\n",
       "  w: 0,\n",
       "  D: -((r403 + r407 - 8)*r409 + r408*r409 + 1)/r409,\n",
       "  s: 2,\n",
       "  g: 1/4*I*sqrt(47) + 1/4,\n",
       "  beta: r407,\n",
       "  alpha: 0,\n",
       "  epsilon: 1,\n",
       "  kappa: -r406 + 2,\n",
       "  V: r405,\n",
       "  J: 1,\n",
       "  R: 3,\n",
       "  x: 4,\n",
       "  E: 0,\n",
       "  m: 1/4*I*sqrt(47) + 7/4,\n",
       "  t: r401,\n",
       "  h: -1/4*I*sqrt(47) + 7/4,\n",
       "  zeta: 1,\n",
       "  W: -r401 - r404 + 6,\n",
       "  K: 1,\n",
       "  S: r401 - r402 + 2,\n",
       "  U: r404,\n",
       "  y: -(r408*r409 - r409*(((r403 + r407 - 8)*r409 + r408*r409 + 1)/r409 + 6) + 1)/r409,\n",
       "  F: 1,\n",
       "  n: -1/4*I*sqrt(47) + 1/4,\n",
       "  u: 1,\n",
       "  O: 2,\n",
       "  a: 1/4*I*sqrt(47) + 1/4,\n",
       "  j: 3,\n",
       "  i: 2,\n",
       "  Xp: 2,\n",
       "  X: -r405 - ((r403 + r407 - 8)*r409 + r408*r409 + 1)/r409 + 1,\n",
       "  L: 1,\n",
       "  T: r403,\n",
       "  z: -r401 + 4,\n",
       "  G: 1,\n",
       "  o: 0,\n",
       "  v: 2,\n",
       "  b: 1/4*I*sqrt(47) + 7/4,\n",
       "  k: 3,\n",
       "  Z: 3,\n",
       "  N: r402,\n",
       "  phi: r408,\n",
       "  gamma: 2,\n",
       "  Y: r406,\n",
       "  M: 2,\n",
       "  nu: 1,\n",
       "  eta: 1,\n",
       "  A: 1,\n",
       "  p: 1,\n",
       "  c: -1/4*I*sqrt(47) + 7/4,\n",
       "  l: 1,\n",
       "  lmbda: r409,\n",
       "  P: 1,\n",
       "  delta: 1/r409,\n",
       "  C: 4,\n",
       "  r: 1,\n",
       "  mu: -r409 + 2}]"
      ]
     },
     "execution_count": 52,
     "metadata": {},
     "output_type": "execute_result"
    }
   ],
   "source": [
    "solve([a+c==2, b+d==2,\n",
    "      g-a==0, e+k==3,\n",
    "      f+i==3, m-b==0,\n",
    "      h-c==0, j+o==3,\n",
    "      l+p+q==3, n-d==0,\n",
    "      s-f==1, r+w-e==1,\n",
    "     -g-h==-2, t+z==4,\n",
    "      u+v-i==1, C-j==1,\n",
    "      A+G-l==1, x-k==1,\n",
    "      y+D+I==4, -m-n==-2,\n",
    "      B+K-p==1, E+F-o==1,\n",
    "     H+L-q==1, J==1,\n",
    "     M==2, Q-r==-1,\n",
    "     O-s-u==-1, N+S-t==2,\n",
    "     P-v==-1, Xp==2,\n",
    "     T+beta-y==2, R-w-x==-1,\n",
    "     epsilon-A-B==-1, U+W-z==2,\n",
    "     V+X+nu-D==2, Z-E-C==-1,\n",
    "     Y+kappa==2, alpha-F==-1,\n",
    "     zeta-G-H==-1, gamma==2,\n",
    "     delta+phi-I==2, -J==-1,\n",
    "     eta-K-L==-1, lmbda+mu==2,\n",
    "       f==1, i==2, s==2, u==1, v==2, O==2, P==1,\n",
    "       l==1, q==1, A==1, B==1, p==1, G==1, H==1, L==1, K==1, epsilon==1, zeta==1, nu==1,\n",
    "       a*d==k*l, b*c==i*j, J*L==lmbda*delta,\n",
    "       e==0,k==3,x==4,w==0,r==1,R==3,Q==0,\n",
    "      C==4,E==0,F==1,Z==3,alpha==0,j==3,o==0],\n",
    "      weights,solution_dict=True)"
   ]
  },
  {
   "cell_type": "code",
   "execution_count": 31,
   "metadata": {},
   "outputs": [],
   "source": [
    "weights2 = var(\"e k x w r R Q\")"
   ]
  },
  {
   "cell_type": "code",
   "execution_count": 30,
   "metadata": {},
   "outputs": [
    {
     "data": {
      "text/plain": [
       "[[e == 1/2*r145 - 1/2*sqrt(r145^2 - 10*r145 + 9) + 3/2, k == -1/2*r145 + 1/2*sqrt(r145^2 - 10*r145 + 9) + 3/2, x == -1/2*r145 + 1/2*sqrt(r145^2 - 10*r145 + 9) + 5/2, w == r145, r == -1/2*r145 - 1/2*sqrt(r145^2 - 10*r145 + 9) + 5/2, R == 1/2*r145 + 1/2*sqrt(r145^2 - 10*r145 + 9) + 3/2, Q == -1/2*r145 - 1/2*sqrt(r145^2 - 10*r145 + 9) + 3/2], [e == 1/2*r146 + 1/2*sqrt(r146^2 - 10*r146 + 9) + 3/2, k == -1/2*r146 - 1/2*sqrt(r146^2 - 10*r146 + 9) + 3/2, x == -1/2*r146 - 1/2*sqrt(r146^2 - 10*r146 + 9) + 5/2, w == r146, r == -1/2*r146 + 1/2*sqrt(r146^2 - 10*r146 + 9) + 5/2, R == 1/2*r146 - 1/2*sqrt(r146^2 - 10*r146 + 9) + 3/2, Q == -1/2*r146 + 1/2*sqrt(r146^2 - 10*r146 + 9) + 3/2], [e == (-2*I + 4), k == (2*I - 1), x == (2*I), w == 5, r == (-2*I), R == (2*I + 4), Q == (-2*I - 1)], [e == 0, k == 3, x == 4, w == 0, r == 1, R == 3, Q == 0], [e == (2*I + 4), k == (-2*I - 1), x == (-2*I), w == 5, r == (2*I), R == (-2*I + 4), Q == (2*I - 1)], [e == 3, k == 0, x == 1, w == 0, r == 4, R == 0, Q == 3], [e == (-2*I + 4), k == (2*I - 1), x == (2*I), w == 5, r == (-2*I), R == (2*I + 4), Q == (-2*I - 1)], [e == (2*I + 4), k == (-2*I - 1), x == (-2*I), w == 5, r == (2*I), R == (-2*I + 4), Q == (2*I - 1)]]"
      ]
     },
     "execution_count": 30,
     "metadata": {},
     "output_type": "execute_result"
    }
   ],
   "source": [
    "solve([e*k==w*x, r*w==Q*R, e+k==3, r+w-e==1, x-k==1, Q+R==3, Q-r==-1, R-w-x==-1],weights2)"
   ]
  },
  {
   "cell_type": "code",
   "execution_count": 2,
   "metadata": {},
   "outputs": [],
   "source": [
    "weights3=var(\"j o C E F Z alpha\")"
   ]
  },
  {
   "cell_type": "code",
   "execution_count": 3,
   "metadata": {},
   "outputs": [
    {
     "data": {
      "text/plain": [
       "[[j == 0, o == 3, C == 1, E == 0, F == 4, Z == 0, alpha == 3], [j == 1, o == 2, C == 2, E == 1, F == 2, Z == 2, alpha == 1]]"
      ]
     },
     "execution_count": 3,
     "metadata": {},
     "output_type": "execute_result"
    }
   ],
   "source": [
    "solve([j*C==o*E,E*F==Z*alpha,j+o==3,C-j==1, E+F-o==1, Z-E-C==-1,-Z-alpha==-3,alpha-F==-1],weights3)"
   ]
  },
  {
   "cell_type": "code",
   "execution_count": 53,
   "metadata": {},
   "outputs": [],
   "source": [
    "weights4=var(\"f i s u v O P\")"
   ]
  },
  {
   "cell_type": "code",
   "execution_count": 54,
   "metadata": {},
   "outputs": [
    {
     "data": {
      "text/plain": [
       "[[O == 0, P == 3, f == 0, i == 3, s == 1, u == 0, v == 4], [O == 3, P == 0, f == 3, i == 0, s == 4, u == 0, v == 1], [O == (2*I + 4), P == (-2*I - 1), f == (2*I - 1), i == (-2*I + 4), s == (2*I), u == 5, v == (-2*I)], [O == (2*I + 4), P == (-2*I - 1), f == (2*I - 1), i == (-2*I + 4), s == (2*I), u == 5, v == (-2*I)], [O == (-2*I + 4), P == (2*I - 1), f == (-2*I - 1), i == (2*I + 4), s == (-2*I), u == 5, v == (2*I)], [O == (-2*I + 4), P == (2*I - 1), f == (-2*I - 1), i == (2*I + 4), s == (-2*I), u == 5, v == (2*I)], [O == -2*(I*sqrt(7) - 3)/(-1/2*I*sqrt(7) + 5/2), P == 1/4*I*sqrt(7) + 1/4, f == -1/2*I*sqrt(7) + 3/2, i == 1/2*I*sqrt(7) + 3/2, s == -1/2*I*sqrt(7) + 5/2, u == 1/4*I*sqrt(7) + 5/4, v == 1/4*I*sqrt(7) + 5/4], [O == -2*(-I*sqrt(7) - 3)/(1/2*I*sqrt(7) + 5/2), P == -1/4*I*sqrt(7) + 1/4, f == 1/2*I*sqrt(7) + 3/2, i == -1/2*I*sqrt(7) + 3/2, s == 1/2*I*sqrt(7) + 5/2, u == -1/4*I*sqrt(7) + 5/4, v == -1/4*I*sqrt(7) + 5/4], [O == 4*(c191 - sqrt(c191^2 - 10*c191 + 9) - 3)/(c191 - sqrt(c191^2 - 10*c191 + 9) - 5), P == -1/2*c191 - 1/2*sqrt(c191^2 - 10*c191 + 9) + 3/2, f == -1/2*c191 + 1/2*sqrt(c191^2 - 10*c191 + 9) + 3/2, i == 1/2*c191 - 1/2*sqrt(c191^2 - 10*c191 + 9) + 3/2, s == -1/2*c191 + 1/2*sqrt(c191^2 - 10*c191 + 9) + 5/2, u == c191, v == -1/2*c191 - 1/2*sqrt(c191^2 - 10*c191 + 9) + 5/2], [O == 4*(c192 + sqrt(c192^2 - 10*c192 + 9) - 3)/(c192 + sqrt(c192^2 - 10*c192 + 9) - 5), P == -1/2*c192 + 1/2*sqrt(c192^2 - 10*c192 + 9) + 3/2, f == -1/2*c192 - 1/2*sqrt(c192^2 - 10*c192 + 9) + 3/2, i == 1/2*c192 + 1/2*sqrt(c192^2 - 10*c192 + 9) + 3/2, s == -1/2*c192 - 1/2*sqrt(c192^2 - 10*c192 + 9) + 5/2, u == c192, v == -1/2*c192 + 1/2*sqrt(c192^2 - 10*c192 + 9) + 5/2]]"
      ]
     },
     "execution_count": 54,
     "metadata": {},
     "output_type": "execute_result"
    }
   ],
   "source": [
    "solve([f*i==s*u, u*v==O*P, s-f==1, u+v-i==1, O-s-u==-1, f+i==3, P-v==-1,-O-P==-3],weights4)"
   ]
  },
  {
   "cell_type": "code",
   "execution_count": null,
   "metadata": {},
   "outputs": [],
   "source": []
  }
 ],
 "metadata": {
  "kernelspec": {
   "display_name": "SageMath 8.6",
   "language": "",
   "name": "sagemath"
  },
  "language_info": {
   "codemirror_mode": {
    "name": "ipython",
    "version": 2
   },
   "file_extension": ".py",
   "mimetype": "text/x-python",
   "name": "python",
   "nbconvert_exporter": "python",
   "pygments_lexer": "ipython2",
   "version": "2.7.15"
  }
 },
 "nbformat": 4,
 "nbformat_minor": 2
}
