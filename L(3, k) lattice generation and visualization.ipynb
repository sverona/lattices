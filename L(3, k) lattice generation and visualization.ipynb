{
 "cells": [
  {
   "cell_type": "code",
   "execution_count": null,
   "metadata": {},
   "outputs": [],
   "source": [
    "from itertools import product"
   ]
  },
  {
   "cell_type": "code",
   "execution_count": null,
   "metadata": {},
   "outputs": [],
   "source": [
    "def tableaux(n, k):\n",
    "    min_tab = list(range(1, n*k, n))\n",
    "    offsets = product(range(n), repeat=k)\n",
    "    # print(list(offsets))\n",
    "    for offset in offsets:\n",
    "        for idx in range(1, k):\n",
    "            if offset[idx] == 0 and offset[idx - 1] == n - 1:\n",
    "                break\n",
    "        else:\n",
    "            yield tuple(m + o for m, o in zip(min_tab, offset))"
   ]
  },
  {
   "cell_type": "code",
   "execution_count": null,
   "metadata": {},
   "outputs": [],
   "source": [
    "len(list(tableaux(3,3)))"
   ]
  },
  {
   "cell_type": "code",
   "execution_count": null,
   "metadata": {
    "scrolled": true
   },
   "outputs": [],
   "source": [
    "def covers(tab1, tab2):\n",
    "    diffs = [t2 - t1 for t1, t2 in zip(tab1, tab2)]\n",
    "    if all(diff >= 0 for diff in diffs) and sum(abs(diff) for diff in diffs) == 1:\n",
    "        # do colors\n",
    "        return True\n",
    "    return False"
   ]
  },
  {
   "cell_type": "markdown",
   "metadata": {},
   "source": [
    "The below cell implements the algorithm from section 3 of:\n",
    "\n",
    "Eppstein, David. \"Algorithms for drawing media.\" International Symposium on Graph Drawing. Springer, Berlin, Heidelberg, 2004.\n",
    "https://link.springer.com/content/pdf/10.1007/978-3-540-31843-9_19.pdf\n",
    "\n",
    "Note that the equations for X_i and Y_i on page 176 actually compute X_i + 1, Y_i + 1 (at least as given here.) As best I can figure, if implemented as written in the paper, the vectors become identically zero."
   ]
  },
  {
   "cell_type": "code",
   "execution_count": null,
   "metadata": {},
   "outputs": [],
   "source": [
    "def basis(tabl, N):\n",
    "    def dot(v, w):\n",
    "        return sum(vv * ww for vv, ww in zip(v, w))\n",
    "    k = len(tabl[0])\n",
    "    \n",
    "    X = [None for _ in range(k)]\n",
    "    X[0] = 0\n",
    "    for i in range(1, k):\n",
    "        running_max_X = None\n",
    "        for j in range(1, N):\n",
    "            this_slice = [x for x in tabl if x[i - 1] == j]\n",
    "            last_slice = [x for x in tabl if x[i - 1] == j - 1]\n",
    "            if this_slice and last_slice:\n",
    "                xp = min(this_slice, key=lambda p: dot(p[:i], X[:i]))\n",
    "                xq = max(last_slice, key=lambda q: dot(q[:i], X[:i]))\n",
    "                this_max_X = dot(xp[:i], X[:i]) - dot(xq[:i], X[:i])\n",
    "                \n",
    "                if running_max_X:\n",
    "                    running_max_X = max(this_max_X, running_max_X)\n",
    "                else:\n",
    "                    running_max_X = this_max_X\n",
    "        X[i] = -1 + running_max_X\n",
    "\n",
    "    Y = [None for _ in range(k)]\n",
    "    Y[-1] = 0\n",
    "    for i in range(k-1, 0, -1):\n",
    "        running_max_Y = None\n",
    "        for j in range(1, N):\n",
    "            this_slice = [x for x in tabl if x[i - 1] == j]\n",
    "            last_slice = [x for x in tabl if x[i - 1] == j - 1]\n",
    "            if this_slice and last_slice:\n",
    "                yp = min(this_slice, key=lambda p: dot(p[i:], X[i:]))\n",
    "                yq = max(last_slice, key=lambda q: dot(q[i:], X[i:]))\n",
    "                this_max_Y = dot(yp[i:], X[i:]) - dot(yq[i:], X[i:])\n",
    "                \n",
    "                if running_max_Y:\n",
    "                    running_max_Y = max(this_max_Y, running_max_Y)\n",
    "                else:\n",
    "                    running_max_Y = this_max_Y\n",
    "        Y[i-1] = -1 + running_max_Y\n",
    "\n",
    "    return (X, Y)"
   ]
  },
  {
   "cell_type": "markdown",
   "metadata": {},
   "source": [
    "The below cell has the goods.\n",
    "\n",
    "It should generate a pdf."
   ]
  },
  {
   "cell_type": "code",
   "execution_count": null,
   "metadata": {
    "scrolled": true
   },
   "outputs": [],
   "source": [
    "N = 3\n",
    "K = 4\n",
    "\n",
    "lNK = list(tableaux(N, K))\n",
    "\n",
    "# Matrix-vector multiplication\n",
    "def mult(M, v):\n",
    "    return [sum(vv * ww for vv, ww in zip(v, w)) for w in M]\n",
    "\n",
    "B = list(basis(lNK, N * K + 1))\n",
    "B[0] = [-1 * a for a in B[0]]\n",
    "# print(list(zip(B)))\n",
    "print(B)\n",
    "\n",
    "# I was playing around with trying to rotate it here,\n",
    "# but need homogeneous coordinates and ugh\n",
    "th = 0\n",
    "rotate = [[cos(th), sin(th)], (-sin(th), cos(th))]\n",
    "mult(rotate, mult(B, lNK[0]))\n",
    "\n",
    "pos = {v: mult(rotate, mult(B, v)) for v in lNK}\n",
    "\n",
    "G = Graph([lNK, covers], pos=pos)\n",
    "G.set_latex_options(graphic_size=(5*B[0][-1]*K, 5*B[0][-1]*K), vertex_size=0.1,\n",
    "                    edge_thickness=0.05, vertex_labels=True)\n",
    "view(G)"
   ]
  },
  {
   "cell_type": "code",
   "execution_count": null,
   "metadata": {
    "scrolled": false
   },
   "outputs": [],
   "source": [
    "# Verifying that, as in Eppstein, we get X-coordinates that\n",
    "# are powers of 2 for a hypercube.\n",
    "def hyper(d):\n",
    "    return list(product([0, 1], repeat=d))\n",
    "basis(hyper(10),2)"
   ]
  },
  {
   "cell_type": "code",
   "execution_count": 4,
   "metadata": {
    "scrolled": true
   },
   "outputs": [
    {
     "ename": "TypeError",
     "evalue": "unable to make sense of Maxima expression '[if(((c708*(sqrt(c710^2-10*c710+9)-c710+3))/(2*(2-c706))!=0)and(3-(sqrt(c710^2-10*c710+9)-c710+3)/2!=0)and((sqrt(c710^2-10*c710+9)-c710+3)/2+1!=0),[_SAGE_VAR_A==c690,_SAGE_VAR_B==c691,_SAGE_VAR_C==c692,_SAGE_VAR_D==c693,_SAGE_VAR_E==c694,_SAGE_VAR_F==(-c694)-c692+5,_SAGE_VAR_G==c695,_SAGE_VAR_H==c696,_SAGE_VAR_I==c697,_SAGE_VAR_J==1,_SAGE_VAR_K==c698,_SAGE_VAR_L==(-c698)-c696-c695-c691-c690+6,_SAGE_VAR_M==2,_SAGE_VAR_N==(((c699+1)*(sqrt(c710^2-10*c710+9)-c710+3))/2+c699+1)/2,_SAGE_VAR_O==(2*(sqrt(c710^2-10*c710+9)-c710+3))/((sqrt(c710^2-10*c710+9)-c710+3)/2+1),_SAGE_VAR_P==(3-(sqrt(c710^2-10*c710+9)-c710+3)/2)/((sqrt(c710^2-10*c710+9)-c710+3)/2+1),_SAGE_VAR_Q==c699,_SAGE_VAR_R==3-c699,_SAGE_VAR_S==c700,_SAGE_VAR_T==c701,_SAGE_VAR_U==c702,_SAGE_VAR_V==c703,_SAGE_VAR_W==((-((c699+1)*(sqrt(c710^2-10*c710+9)-c710+3))/2)-2*c702-2*c700-c699+15)/2,_SAGE_VAR_X==c704,_SAGE_VAR_Xp==2,_SAGE_VAR_Y==c705,_SAGE_VAR_Z==c694+c692-1,_SAGE_VAR_a==2-c706,_SAGE_VAR_alpha==(-c694)-c692+4,_SAGE_VAR_b==(c708*(sqrt(c710^2-10*c710+9)-c710+3))/(2*(2-c706)),_SAGE_VAR_beta==(-c701)-c697-c693+6,_SAGE_VAR_c==c706,_SAGE_VAR_d==((-c708*sqrt(c710^2-10*c710+9))+c708*c710-3*c708+4*(2-c706))/(2*(2-c706)),_SAGE_VAR_delta==c707,_SAGE_VAR_e==c708,_SAGE_VAR_epsilon==c691+c690-1,_SAGE_VAR_eta==(-c696)-c695-c691-c690+5,_SAGE_VAR_f==(sqrt(c710^2-10*c710+9)-c710+3)/2,_SAGE_VAR_g==2-c706,_SAGE_VAR_gamma==2,_SAGE_VAR_h==c706,_SAGE_VAR_i==3-(sqrt(c710^2-10*c710+9)-c710+3)/2,_SAGE_VAR_j==c692-1,_SAGE_VAR_k==3-c708,_SAGE_VAR_kappa==2-c705,_SAGE_VAR_l==c695+c690-1,_SAGE_VAR_lmbda==c709,_SAGE_VAR_m==(c708*(sqrt(c710^2-10*c710+9)-c710+3))/(2*(2-c706)),_SAGE_VAR_mu==2-c709,_SAGE_VAR_n==2-(c708*(sqrt(c710^2-10*c710+9)-c710+3))/(2*(2-c706)),_SAGE_VAR_nu==(-c704)-c703+c693+2,_SAGE_VAR_o==4-c692,_SAGE_VAR_p==c698+c691-1,_SAGE_VAR_phi==(-c707)+c697+2,_SAGE_VAR_q==(-c698)-c695-c691-c690+5,_SAGE_VAR_r==c699+1,_SAGE_VAR_s==(sqrt(c710^2-10*c710+9)-c710+3)/2+1,_SAGE_VAR_t==((c699+1)*sqrt(c710^2-10*c710+9)+((-c699)-1)*c710+4*c700+5*c699-3)/4,_SAGE_VAR_u==c710,_SAGE_VAR_v==((-sqrt(c710^2-10*c710+9))-c710+5)/2,_SAGE_VAR_w==c708-c699,_SAGE_VAR_x==4-c708,_SAGE_VAR_y==(-c697)-c693+4,_SAGE_VAR_z==((-(c699+1)*sqrt(c710^2-10*c710+9))-((-c699)-1)*c710-4*c700-5*c699+19)/4,_SAGE_VAR_zeta==c696+c695-1],union()),if((-(c729*(sqrt(c731^2-10*c731+9)+c731-3))/(2*(2-c727))!=0)and(1-(sqrt(c731^2-10*c731+9)+c731-3)/2!=0)and((sqrt(c731^2-10*c731+9)+c731-3)/2+3!=0),[_SAGE_VAR_A==c711,_SAGE_VAR_B==c712,_SAGE_VAR_C==c713,_SAGE_VAR_D==c714,_SAGE_VAR_E==c715,_SAGE_VAR_F==(-c715)-c713+5,_SAGE_VAR_G==c716,_SAGE_VAR_H==c717,_SAGE_VAR_I==c718,_SAGE_VAR_J==1,_SAGE_VAR_K==c719,_SAGE_VAR_L==(-c719)-c717-c716-c712-c711+6,_SAGE_VAR_M==2,_SAGE_VAR_N==((-((c720+1)*(sqrt(c731^2-10*c731+9)+c731-3))/2)+c720+1)/2,_SAGE_VAR_O==-(2*(sqrt(c731^2-10*c731+9)+c731-3))/(1-(sqrt(c731^2-10*c731+9)+c731-3)/2),_SAGE_VAR_P==(3-((-sqrt(c731^2-10*c731+9))-c731+3)/2)/(1-(sqrt(c731^2-10*c731+9)+c731-3)/2),_SAGE_VAR_Q==c720,_SAGE_VAR_R==3-c720,_SAGE_VAR_S==c721,_SAGE_VAR_T==c722,_SAGE_VAR_U==c723,_SAGE_VAR_V==c724,_SAGE_VAR_W==(((c720+1)*(sqrt(c731^2-10*c731+9)+c731-3))/2-2*c723-2*c721-c720+15)/2,_SAGE_VAR_X==c725,_SAGE_VAR_Xp==2,_SAGE_VAR_Y==c726,_SAGE_VAR_Z==c715+c713-1,_SAGE_VAR_a==2-c727,_SAGE_VAR_alpha==(-c715)-c713+4,_SAGE_VAR_b==-(c729*(sqrt(c731^2-10*c731+9)+c731-3))/(2*(2-c727)),_SAGE_VAR_beta==(-c722)-c718-c714+6,_SAGE_VAR_c==c727,_SAGE_VAR_d==(c729*sqrt(c731^2-10*c731+9)+c729*c731-3*c729+4*(2-c727))/(2*(2-c727)),_SAGE_VAR_delta==c728,_SAGE_VAR_e==c729,_SAGE_VAR_epsilon==c712+c711-1,_SAGE_VAR_eta==(-c717)-c716-c712-c711+5,_SAGE_VAR_f==((-sqrt(c731^2-10*c731+9))-c731+3)/2,_SAGE_VAR_g==2-c727,_SAGE_VAR_gamma==2,_SAGE_VAR_h==c727,_SAGE_VAR_i==(sqrt(c731^2-10*c731+9)+c731-3)/2+3,_SAGE_VAR_j==c713-1,_SAGE_VAR_k==3-c729,_SAGE_VAR_kappa==2-c726,_SAGE_VAR_l==c716+c711-1,_SAGE_VAR_lmbda==c730,_SAGE_VAR_m==-(c729*(sqrt(c731^2-10*c731+9)+c731-3))/(2*(2-c727)),_SAGE_VAR_mu==2-c730,_SAGE_VAR_n==(c729*(sqrt(c731^2-10*c731+9)+c731-3))/(2*(2-c727))+2,_SAGE_VAR_nu==(-c725)-c724+c714+2,_SAGE_VAR_o==4-c713,_SAGE_VAR_p==c719+c712-1,_SAGE_VAR_phi==(-c728)+c718+2,_SAGE_VAR_q==(-c719)-c716-c712-c711+5,_SAGE_VAR_r==c720+1,_SAGE_VAR_s==1-(sqrt(c731^2-10*c731+9)+c731-3)/2,_SAGE_VAR_t==((-(c720+1)*sqrt(c731^2-10*c731+9))-(c720+1)*c731+4*c721+5*c720-3)/4,_SAGE_VAR_u==c731,_SAGE_VAR_v==(sqrt(c731^2-10*c731+9)-c731+5)/2,_SAGE_VAR_w==c729-c720,_SAGE_VAR_x==4-c729,_SAGE_VAR_y==(-c718)-c714+4,_SAGE_VAR_z==((c720+1)*sqrt(c731^2-10*c731+9)+(c720+1)*c731-4*c721-5*c720+19)/4,_SAGE_VAR_zeta==c717+c716-1],union()),if(c788!=0,[_SAGE_VAR_A==c772,_SAGE_VAR_B==c773,_SAGE_VAR_C==c774,_SAGE_VAR_D==c775,_SAGE_VAR_E==c776,_SAGE_VAR_F==(-c776)-c774+5,_SAGE_VAR_G==c777,_SAGE_VAR_H==c778,_SAGE_VAR_I==c779,_SAGE_VAR_J==1,_SAGE_VAR_K==c780,_SAGE_VAR_L==(-c780)-c778-c777-c773-c772+6,_SAGE_VAR_M==2,_SAGE_VAR_N==c781,_SAGE_VAR_O==(sqrt(7)*I+1)/((sqrt(7)*I+1)/4+1),_SAGE_VAR_P==(3-sqrt(7)*I)/2,_SAGE_VAR_Q==((-(sqrt(7)*I-5)*c781)-4)/4,_SAGE_VAR_R==((sqrt(7)*I-5)*c781+4)/4+3,_SAGE_VAR_S==c782,_SAGE_VAR_T==c783,_SAGE_VAR_U==c784,_SAGE_VAR_V==c785,_SAGE_VAR_W==(-c784)-c782-c781+8,_SAGE_VAR_X==c786,_SAGE_VAR_Xp==2,_SAGE_VAR_Y==c787,_SAGE_VAR_Z==c776+c774-1,_SAGE_VAR_a==((sqrt(7)*I+1)*((sqrt(7)*I-1)*c788*c789+(2-2*sqrt(7)*I)*c788))/(8*c788),_SAGE_VAR_alpha==(-c776)-c774+4,_SAGE_VAR_b==c788,_SAGE_VAR_beta==(-c783)-c779-c775+6,_SAGE_VAR_c==c789,_SAGE_VAR_d==2-c788,_SAGE_VAR_delta==c790,_SAGE_VAR_e==((sqrt(7)*I-1)*c788*c789+(2-2*sqrt(7)*I)*c788)/2,_SAGE_VAR_epsilon==c773+c772-1,_SAGE_VAR_eta==(-c778)-c777-c773-c772+5,_SAGE_VAR_f==(sqrt(7)*I+1)/4,_SAGE_VAR_g==2-c789,_SAGE_VAR_gamma==2,_SAGE_VAR_h==c789,_SAGE_VAR_i==(11-sqrt(7)*I)/4,_SAGE_VAR_j==c774-1,_SAGE_VAR_k==3-((sqrt(7)*I-1)*c788*c789+(2-2*sqrt(7)*I)*c788)/2,_SAGE_VAR_kappa==2-c787,_SAGE_VAR_l==c777+c772-1,_SAGE_VAR_lmbda==c791,_SAGE_VAR_m==c788,_SAGE_VAR_mu==2-c791,_SAGE_VAR_n==2-c788,_SAGE_VAR_nu==(-c786)-c785+c775+2,_SAGE_VAR_o==4-c774,_SAGE_VAR_p==c780+c773-1,_SAGE_VAR_phi==(-c790)+c779+2,_SAGE_VAR_q==(-c780)-c777-c773-c772+5,_SAGE_VAR_r==-((sqrt(7)*I-5)*c781)/4,_SAGE_VAR_s==(sqrt(7)*I+5)/4,_SAGE_VAR_t==c782+c781-2,_SAGE_VAR_u==(sqrt(7)*I+5)/4,_SAGE_VAR_v==(5-sqrt(7)*I)/2,_SAGE_VAR_w==((-(2*sqrt(7)*I-2)*c788*(2-c789))-(5-sqrt(7)*I)*c781+4)/4,_SAGE_VAR_x==((sqrt(7)*I-1)*c788*(2-c789)+8)/2,_SAGE_VAR_y==(-c779)-c775+4,_SAGE_VAR_z==(-c782)-c781+6,_SAGE_VAR_zeta==c778+c777-1],union()),if(c808!=0,[_SAGE_VAR_A==c792,_SAGE_VAR_B==c793,_SAGE_VAR_C==c794,_SAGE_VAR_D==c795,_SAGE_VAR_E==c796,_SAGE_VAR_F==(-c796)-c794+5,_SAGE_VAR_G==c797,_SAGE_VAR_H==c798,_SAGE_VAR_I==c799,_SAGE_VAR_J==1,_SAGE_VAR_K==c800,_SAGE_VAR_L==(-c800)-c798-c797-c793-c792+6,_SAGE_VAR_M==2,_SAGE_VAR_N==c801,_SAGE_VAR_O==(1-sqrt(7)*I)/(1-(sqrt(7)*I-1)/4),_SAGE_VAR_P==(sqrt(7)*I+3)/2,_SAGE_VAR_Q==((sqrt(7)*I+5)*c801-4)/4,_SAGE_VAR_R==3-((sqrt(7)*I+5)*c801-4)/4,_SAGE_VAR_S==c802,_SAGE_VAR_T==c803,_SAGE_VAR_U==c804,_SAGE_VAR_V==c805,_SAGE_VAR_W==(-c804)-c802-c801+8,_SAGE_VAR_X==c806,_SAGE_VAR_Xp==2,_SAGE_VAR_Y==c807,_SAGE_VAR_Z==c796+c794-1,_SAGE_VAR_a==((sqrt(7)*I-1)*((sqrt(7)*I+1)*c808*c809+((-2*sqrt(7)*I)-2)*c808))/(8*c808),_SAGE_VAR_alpha==(-c796)-c794+4,_SAGE_VAR_b==c808,_SAGE_VAR_beta==(-c803)-c799-c795+6,_SAGE_VAR_c==c809,_SAGE_VAR_d==2-c808,_SAGE_VAR_delta==c810,_SAGE_VAR_e==((-(sqrt(7)*I+1)*c808*c809)-((-2*sqrt(7)*I)-2)*c808)/2,_SAGE_VAR_epsilon==c793+c792-1,_SAGE_VAR_eta==(-c798)-c797-c793-c792+5,_SAGE_VAR_f==(1-sqrt(7)*I)/4,_SAGE_VAR_g==2-c809,_SAGE_VAR_gamma==2,_SAGE_VAR_h==c809,_SAGE_VAR_i==(sqrt(7)*I+11)/4,_SAGE_VAR_j==c794-1,_SAGE_VAR_k==((sqrt(7)*I+1)*c808*c809+((-2*sqrt(7)*I)-2)*c808)/2+3,_SAGE_VAR_kappa==2-c807,_SAGE_VAR_l==c797+c792-1,_SAGE_VAR_lmbda==c811,_SAGE_VAR_m==c808,_SAGE_VAR_mu==2-c811,_SAGE_VAR_n==2-c808,_SAGE_VAR_nu==(-c806)-c805+c795+2,_SAGE_VAR_o==4-c794,_SAGE_VAR_p==c800+c793-1,_SAGE_VAR_phi==(-c810)+c799+2,_SAGE_VAR_q==(-c800)-c797-c793-c792+5,_SAGE_VAR_r==((sqrt(7)*I+5)*c801)/4,_SAGE_VAR_s==(5-sqrt(7)*I)/4,_SAGE_VAR_t==c802+c801-2,_SAGE_VAR_u==(5-sqrt(7)*I)/4,_SAGE_VAR_v==(sqrt(7)*I+5)/2,_SAGE_VAR_w==((2*sqrt(7)*I+2)*c808*(2-c809)+((-sqrt(7)*I)-5)*c801+4)/4,_SAGE_VAR_x==(8-(sqrt(7)*I+1)*c808*(2-c809))/2,_SAGE_VAR_y==(-c799)-c795+4,_SAGE_VAR_z==(-c802)-c801+6,_SAGE_VAR_zeta==c798+c797-1],union())]' in Sage",
     "output_type": "error",
     "traceback": [
      "\u001b[0;31m---------------------------------------------------------------------------\u001b[0m",
      "\u001b[0;31mTypeError\u001b[0m                                 Traceback (most recent call last)",
      "\u001b[0;32m<ipython-input-4-b4c50c59fd80>\u001b[0m in \u001b[0;36m<module>\u001b[0;34m()\u001b[0m\n\u001b[1;32m     24\u001b[0m      \u001b[0meta\u001b[0m\u001b[0;34m-\u001b[0m\u001b[0mK\u001b[0m\u001b[0;34m-\u001b[0m\u001b[0mL\u001b[0m\u001b[0;34m==\u001b[0m\u001b[0;34m-\u001b[0m\u001b[0mInteger\u001b[0m\u001b[0;34m(\u001b[0m\u001b[0;36m1\u001b[0m\u001b[0;34m)\u001b[0m\u001b[0;34m,\u001b[0m \u001b[0mlmbda\u001b[0m\u001b[0;34m+\u001b[0m\u001b[0mmu\u001b[0m\u001b[0;34m==\u001b[0m\u001b[0mInteger\u001b[0m\u001b[0;34m(\u001b[0m\u001b[0;36m2\u001b[0m\u001b[0;34m)\u001b[0m\u001b[0;34m,\u001b[0m\u001b[0;34m\u001b[0m\u001b[0m\n\u001b[1;32m     25\u001b[0m       a==e*f/b, r==M*N/s, f==s*u/i],\n\u001b[0;32m---> 26\u001b[0;31m       weights,solution_dict=True)\n\u001b[0m",
      "\u001b[0;32m/usr/lib/python2.7/site-packages/sage/symbolic/relation.pyc\u001b[0m in \u001b[0;36msolve\u001b[0;34m(f, *args, **kwds)\u001b[0m\n\u001b[1;32m   1130\u001b[0m             \u001b[0ms\u001b[0m \u001b[0;34m=\u001b[0m \u001b[0;34m[\u001b[0m\u001b[0;34m]\u001b[0m\u001b[0;34m\u001b[0m\u001b[0m\n\u001b[1;32m   1131\u001b[0m \u001b[0;34m\u001b[0m\u001b[0m\n\u001b[0;32m-> 1132\u001b[0;31m     \u001b[0msol_list\u001b[0m \u001b[0;34m=\u001b[0m \u001b[0mstring_to_list_of_solutions\u001b[0m\u001b[0;34m(\u001b[0m\u001b[0mrepr\u001b[0m\u001b[0;34m(\u001b[0m\u001b[0ms\u001b[0m\u001b[0;34m)\u001b[0m\u001b[0;34m)\u001b[0m\u001b[0;34m\u001b[0m\u001b[0m\n\u001b[0m\u001b[1;32m   1133\u001b[0m \u001b[0;34m\u001b[0m\u001b[0m\n\u001b[1;32m   1134\u001b[0m     \u001b[0;31m# Relaxed form suggested by Mike Hansen (#8553):\u001b[0m\u001b[0;34m\u001b[0m\u001b[0;34m\u001b[0m\u001b[0m\n",
      "\u001b[0;32m/usr/lib/python2.7/site-packages/sage/symbolic/relation.pyc\u001b[0m in \u001b[0;36mstring_to_list_of_solutions\u001b[0;34m(s)\u001b[0m\n\u001b[1;32m    576\u001b[0m     \u001b[0;32mfrom\u001b[0m \u001b[0msage\u001b[0m\u001b[0;34m.\u001b[0m\u001b[0mstructure\u001b[0m\u001b[0;34m.\u001b[0m\u001b[0msequence\u001b[0m \u001b[0;32mimport\u001b[0m \u001b[0mSequence\u001b[0m\u001b[0;34m\u001b[0m\u001b[0m\n\u001b[1;32m    577\u001b[0m     \u001b[0;32mfrom\u001b[0m \u001b[0msage\u001b[0m\u001b[0;34m.\u001b[0m\u001b[0mcalculus\u001b[0m\u001b[0;34m.\u001b[0m\u001b[0mcalculus\u001b[0m \u001b[0;32mimport\u001b[0m \u001b[0msymbolic_expression_from_maxima_string\u001b[0m\u001b[0;34m\u001b[0m\u001b[0m\n\u001b[0;32m--> 578\u001b[0;31m     \u001b[0mv\u001b[0m \u001b[0;34m=\u001b[0m \u001b[0msymbolic_expression_from_maxima_string\u001b[0m\u001b[0;34m(\u001b[0m\u001b[0ms\u001b[0m\u001b[0;34m,\u001b[0m \u001b[0mequals_sub\u001b[0m\u001b[0;34m=\u001b[0m\u001b[0mTrue\u001b[0m\u001b[0;34m)\u001b[0m\u001b[0;34m\u001b[0m\u001b[0m\n\u001b[0m\u001b[1;32m    579\u001b[0m     \u001b[0;32mreturn\u001b[0m \u001b[0mSequence\u001b[0m\u001b[0;34m(\u001b[0m\u001b[0mv\u001b[0m\u001b[0;34m,\u001b[0m \u001b[0muniverse\u001b[0m\u001b[0;34m=\u001b[0m\u001b[0mObjects\u001b[0m\u001b[0;34m(\u001b[0m\u001b[0;34m)\u001b[0m\u001b[0;34m,\u001b[0m \u001b[0mcr_str\u001b[0m\u001b[0;34m=\u001b[0m\u001b[0mTrue\u001b[0m\u001b[0;34m)\u001b[0m\u001b[0;34m\u001b[0m\u001b[0m\n\u001b[1;32m    580\u001b[0m \u001b[0;34m\u001b[0m\u001b[0m\n",
      "\u001b[0;32m/usr/lib/python2.7/site-packages/sage/calculus/calculus.pyc\u001b[0m in \u001b[0;36msymbolic_expression_from_maxima_string\u001b[0;34m(x, equals_sub, maxima)\u001b[0m\n\u001b[1;32m   2161\u001b[0m             \u001b[0m_augmented_syms\u001b[0m \u001b[0;34m=\u001b[0m \u001b[0;34m{\u001b[0m\u001b[0;34m}\u001b[0m\u001b[0;34m\u001b[0m\u001b[0m\n\u001b[1;32m   2162\u001b[0m     \u001b[0;32mexcept\u001b[0m \u001b[0mSyntaxError\u001b[0m\u001b[0;34m:\u001b[0m\u001b[0;34m\u001b[0m\u001b[0m\n\u001b[0;32m-> 2163\u001b[0;31m         \u001b[0;32mraise\u001b[0m \u001b[0mTypeError\u001b[0m\u001b[0;34m(\u001b[0m\u001b[0;34m\"unable to make sense of Maxima expression '%s' in Sage\"\u001b[0m\u001b[0;34m%\u001b[0m\u001b[0ms\u001b[0m\u001b[0;34m)\u001b[0m\u001b[0;34m\u001b[0m\u001b[0m\n\u001b[0m\u001b[1;32m   2164\u001b[0m     \u001b[0;32mfinally\u001b[0m\u001b[0;34m:\u001b[0m\u001b[0;34m\u001b[0m\u001b[0m\n\u001b[1;32m   2165\u001b[0m         \u001b[0mis_simplified\u001b[0m \u001b[0;34m=\u001b[0m \u001b[0mFalse\u001b[0m\u001b[0;34m\u001b[0m\u001b[0m\n",
      "\u001b[0;31mTypeError\u001b[0m: unable to make sense of Maxima expression '[if(((c708*(sqrt(c710^2-10*c710+9)-c710+3))/(2*(2-c706))!=0)and(3-(sqrt(c710^2-10*c710+9)-c710+3)/2!=0)and((sqrt(c710^2-10*c710+9)-c710+3)/2+1!=0),[_SAGE_VAR_A==c690,_SAGE_VAR_B==c691,_SAGE_VAR_C==c692,_SAGE_VAR_D==c693,_SAGE_VAR_E==c694,_SAGE_VAR_F==(-c694)-c692+5,_SAGE_VAR_G==c695,_SAGE_VAR_H==c696,_SAGE_VAR_I==c697,_SAGE_VAR_J==1,_SAGE_VAR_K==c698,_SAGE_VAR_L==(-c698)-c696-c695-c691-c690+6,_SAGE_VAR_M==2,_SAGE_VAR_N==(((c699+1)*(sqrt(c710^2-10*c710+9)-c710+3))/2+c699+1)/2,_SAGE_VAR_O==(2*(sqrt(c710^2-10*c710+9)-c710+3))/((sqrt(c710^2-10*c710+9)-c710+3)/2+1),_SAGE_VAR_P==(3-(sqrt(c710^2-10*c710+9)-c710+3)/2)/((sqrt(c710^2-10*c710+9)-c710+3)/2+1),_SAGE_VAR_Q==c699,_SAGE_VAR_R==3-c699,_SAGE_VAR_S==c700,_SAGE_VAR_T==c701,_SAGE_VAR_U==c702,_SAGE_VAR_V==c703,_SAGE_VAR_W==((-((c699+1)*(sqrt(c710^2-10*c710+9)-c710+3))/2)-2*c702-2*c700-c699+15)/2,_SAGE_VAR_X==c704,_SAGE_VAR_Xp==2,_SAGE_VAR_Y==c705,_SAGE_VAR_Z==c694+c692-1,_SAGE_VAR_a==2-c706,_SAGE_VAR_alpha==(-c694)-c692+4,_SAGE_VAR_b==(c708*(sqrt(c710^2-10*c710+9)-c710+3))/(2*(2-c706)),_SAGE_VAR_beta==(-c701)-c697-c693+6,_SAGE_VAR_c==c706,_SAGE_VAR_d==((-c708*sqrt(c710^2-10*c710+9))+c708*c710-3*c708+4*(2-c706))/(2*(2-c706)),_SAGE_VAR_delta==c707,_SAGE_VAR_e==c708,_SAGE_VAR_epsilon==c691+c690-1,_SAGE_VAR_eta==(-c696)-c695-c691-c690+5,_SAGE_VAR_f==(sqrt(c710^2-10*c710+9)-c710+3)/2,_SAGE_VAR_g==2-c706,_SAGE_VAR_gamma==2,_SAGE_VAR_h==c706,_SAGE_VAR_i==3-(sqrt(c710^2-10*c710+9)-c710+3)/2,_SAGE_VAR_j==c692-1,_SAGE_VAR_k==3-c708,_SAGE_VAR_kappa==2-c705,_SAGE_VAR_l==c695+c690-1,_SAGE_VAR_lmbda==c709,_SAGE_VAR_m==(c708*(sqrt(c710^2-10*c710+9)-c710+3))/(2*(2-c706)),_SAGE_VAR_mu==2-c709,_SAGE_VAR_n==2-(c708*(sqrt(c710^2-10*c710+9)-c710+3))/(2*(2-c706)),_SAGE_VAR_nu==(-c704)-c703+c693+2,_SAGE_VAR_o==4-c692,_SAGE_VAR_p==c698+c691-1,_SAGE_VAR_phi==(-c707)+c697+2,_SAGE_VAR_q==(-c698)-c695-c691-c690+5,_SAGE_VAR_r==c699+1,_SAGE_VAR_s==(sqrt(c710^2-10*c710+9)-c710+3)/2+1,_SAGE_VAR_t==((c699+1)*sqrt(c710^2-10*c710+9)+((-c699)-1)*c710+4*c700+5*c699-3)/4,_SAGE_VAR_u==c710,_SAGE_VAR_v==((-sqrt(c710^2-10*c710+9))-c710+5)/2,_SAGE_VAR_w==c708-c699,_SAGE_VAR_x==4-c708,_SAGE_VAR_y==(-c697)-c693+4,_SAGE_VAR_z==((-(c699+1)*sqrt(c710^2-10*c710+9))-((-c699)-1)*c710-4*c700-5*c699+19)/4,_SAGE_VAR_zeta==c696+c695-1],union()),if((-(c729*(sqrt(c731^2-10*c731+9)+c731-3))/(2*(2-c727))!=0)and(1-(sqrt(c731^2-10*c731+9)+c731-3)/2!=0)and((sqrt(c731^2-10*c731+9)+c731-3)/2+3!=0),[_SAGE_VAR_A==c711,_SAGE_VAR_B==c712,_SAGE_VAR_C==c713,_SAGE_VAR_D==c714,_SAGE_VAR_E==c715,_SAGE_VAR_F==(-c715)-c713+5,_SAGE_VAR_G==c716,_SAGE_VAR_H==c717,_SAGE_VAR_I==c718,_SAGE_VAR_J==1,_SAGE_VAR_K==c719,_SAGE_VAR_L==(-c719)-c717-c716-c712-c711+6,_SAGE_VAR_M==2,_SAGE_VAR_N==((-((c720+1)*(sqrt(c731^2-10*c731+9)+c731-3))/2)+c720+1)/2,_SAGE_VAR_O==-(2*(sqrt(c731^2-10*c731+9)+c731-3))/(1-(sqrt(c731^2-10*c731+9)+c731-3)/2),_SAGE_VAR_P==(3-((-sqrt(c731^2-10*c731+9))-c731+3)/2)/(1-(sqrt(c731^2-10*c731+9)+c731-3)/2),_SAGE_VAR_Q==c720,_SAGE_VAR_R==3-c720,_SAGE_VAR_S==c721,_SAGE_VAR_T==c722,_SAGE_VAR_U==c723,_SAGE_VAR_V==c724,_SAGE_VAR_W==(((c720+1)*(sqrt(c731^2-10*c731+9)+c731-3))/2-2*c723-2*c721-c720+15)/2,_SAGE_VAR_X==c725,_SAGE_VAR_Xp==2,_SAGE_VAR_Y==c726,_SAGE_VAR_Z==c715+c713-1,_SAGE_VAR_a==2-c727,_SAGE_VAR_alpha==(-c715)-c713+4,_SAGE_VAR_b==-(c729*(sqrt(c731^2-10*c731+9)+c731-3))/(2*(2-c727)),_SAGE_VAR_beta==(-c722)-c718-c714+6,_SAGE_VAR_c==c727,_SAGE_VAR_d==(c729*sqrt(c731^2-10*c731+9)+c729*c731-3*c729+4*(2-c727))/(2*(2-c727)),_SAGE_VAR_delta==c728,_SAGE_VAR_e==c729,_SAGE_VAR_epsilon==c712+c711-1,_SAGE_VAR_eta==(-c717)-c716-c712-c711+5,_SAGE_VAR_f==((-sqrt(c731^2-10*c731+9))-c731+3)/2,_SAGE_VAR_g==2-c727,_SAGE_VAR_gamma==2,_SAGE_VAR_h==c727,_SAGE_VAR_i==(sqrt(c731^2-10*c731+9)+c731-3)/2+3,_SAGE_VAR_j==c713-1,_SAGE_VAR_k==3-c729,_SAGE_VAR_kappa==2-c726,_SAGE_VAR_l==c716+c711-1,_SAGE_VAR_lmbda==c730,_SAGE_VAR_m==-(c729*(sqrt(c731^2-10*c731+9)+c731-3))/(2*(2-c727)),_SAGE_VAR_mu==2-c730,_SAGE_VAR_n==(c729*(sqrt(c731^2-10*c731+9)+c731-3))/(2*(2-c727))+2,_SAGE_VAR_nu==(-c725)-c724+c714+2,_SAGE_VAR_o==4-c713,_SAGE_VAR_p==c719+c712-1,_SAGE_VAR_phi==(-c728)+c718+2,_SAGE_VAR_q==(-c719)-c716-c712-c711+5,_SAGE_VAR_r==c720+1,_SAGE_VAR_s==1-(sqrt(c731^2-10*c731+9)+c731-3)/2,_SAGE_VAR_t==((-(c720+1)*sqrt(c731^2-10*c731+9))-(c720+1)*c731+4*c721+5*c720-3)/4,_SAGE_VAR_u==c731,_SAGE_VAR_v==(sqrt(c731^2-10*c731+9)-c731+5)/2,_SAGE_VAR_w==c729-c720,_SAGE_VAR_x==4-c729,_SAGE_VAR_y==(-c718)-c714+4,_SAGE_VAR_z==((c720+1)*sqrt(c731^2-10*c731+9)+(c720+1)*c731-4*c721-5*c720+19)/4,_SAGE_VAR_zeta==c717+c716-1],union()),if(c788!=0,[_SAGE_VAR_A==c772,_SAGE_VAR_B==c773,_SAGE_VAR_C==c774,_SAGE_VAR_D==c775,_SAGE_VAR_E==c776,_SAGE_VAR_F==(-c776)-c774+5,_SAGE_VAR_G==c777,_SAGE_VAR_H==c778,_SAGE_VAR_I==c779,_SAGE_VAR_J==1,_SAGE_VAR_K==c780,_SAGE_VAR_L==(-c780)-c778-c777-c773-c772+6,_SAGE_VAR_M==2,_SAGE_VAR_N==c781,_SAGE_VAR_O==(sqrt(7)*I+1)/((sqrt(7)*I+1)/4+1),_SAGE_VAR_P==(3-sqrt(7)*I)/2,_SAGE_VAR_Q==((-(sqrt(7)*I-5)*c781)-4)/4,_SAGE_VAR_R==((sqrt(7)*I-5)*c781+4)/4+3,_SAGE_VAR_S==c782,_SAGE_VAR_T==c783,_SAGE_VAR_U==c784,_SAGE_VAR_V==c785,_SAGE_VAR_W==(-c784)-c782-c781+8,_SAGE_VAR_X==c786,_SAGE_VAR_Xp==2,_SAGE_VAR_Y==c787,_SAGE_VAR_Z==c776+c774-1,_SAGE_VAR_a==((sqrt(7)*I+1)*((sqrt(7)*I-1)*c788*c789+(2-2*sqrt(7)*I)*c788))/(8*c788),_SAGE_VAR_alpha==(-c776)-c774+4,_SAGE_VAR_b==c788,_SAGE_VAR_beta==(-c783)-c779-c775+6,_SAGE_VAR_c==c789,_SAGE_VAR_d==2-c788,_SAGE_VAR_delta==c790,_SAGE_VAR_e==((sqrt(7)*I-1)*c788*c789+(2-2*sqrt(7)*I)*c788)/2,_SAGE_VAR_epsilon==c773+c772-1,_SAGE_VAR_eta==(-c778)-c777-c773-c772+5,_SAGE_VAR_f==(sqrt(7)*I+1)/4,_SAGE_VAR_g==2-c789,_SAGE_VAR_gamma==2,_SAGE_VAR_h==c789,_SAGE_VAR_i==(11-sqrt(7)*I)/4,_SAGE_VAR_j==c774-1,_SAGE_VAR_k==3-((sqrt(7)*I-1)*c788*c789+(2-2*sqrt(7)*I)*c788)/2,_SAGE_VAR_kappa==2-c787,_SAGE_VAR_l==c777+c772-1,_SAGE_VAR_lmbda==c791,_SAGE_VAR_m==c788,_SAGE_VAR_mu==2-c791,_SAGE_VAR_n==2-c788,_SAGE_VAR_nu==(-c786)-c785+c775+2,_SAGE_VAR_o==4-c774,_SAGE_VAR_p==c780+c773-1,_SAGE_VAR_phi==(-c790)+c779+2,_SAGE_VAR_q==(-c780)-c777-c773-c772+5,_SAGE_VAR_r==-((sqrt(7)*I-5)*c781)/4,_SAGE_VAR_s==(sqrt(7)*I+5)/4,_SAGE_VAR_t==c782+c781-2,_SAGE_VAR_u==(sqrt(7)*I+5)/4,_SAGE_VAR_v==(5-sqrt(7)*I)/2,_SAGE_VAR_w==((-(2*sqrt(7)*I-2)*c788*(2-c789))-(5-sqrt(7)*I)*c781+4)/4,_SAGE_VAR_x==((sqrt(7)*I-1)*c788*(2-c789)+8)/2,_SAGE_VAR_y==(-c779)-c775+4,_SAGE_VAR_z==(-c782)-c781+6,_SAGE_VAR_zeta==c778+c777-1],union()),if(c808!=0,[_SAGE_VAR_A==c792,_SAGE_VAR_B==c793,_SAGE_VAR_C==c794,_SAGE_VAR_D==c795,_SAGE_VAR_E==c796,_SAGE_VAR_F==(-c796)-c794+5,_SAGE_VAR_G==c797,_SAGE_VAR_H==c798,_SAGE_VAR_I==c799,_SAGE_VAR_J==1,_SAGE_VAR_K==c800,_SAGE_VAR_L==(-c800)-c798-c797-c793-c792+6,_SAGE_VAR_M==2,_SAGE_VAR_N==c801,_SAGE_VAR_O==(1-sqrt(7)*I)/(1-(sqrt(7)*I-1)/4),_SAGE_VAR_P==(sqrt(7)*I+3)/2,_SAGE_VAR_Q==((sqrt(7)*I+5)*c801-4)/4,_SAGE_VAR_R==3-((sqrt(7)*I+5)*c801-4)/4,_SAGE_VAR_S==c802,_SAGE_VAR_T==c803,_SAGE_VAR_U==c804,_SAGE_VAR_V==c805,_SAGE_VAR_W==(-c804)-c802-c801+8,_SAGE_VAR_X==c806,_SAGE_VAR_Xp==2,_SAGE_VAR_Y==c807,_SAGE_VAR_Z==c796+c794-1,_SAGE_VAR_a==((sqrt(7)*I-1)*((sqrt(7)*I+1)*c808*c809+((-2*sqrt(7)*I)-2)*c808))/(8*c808),_SAGE_VAR_alpha==(-c796)-c794+4,_SAGE_VAR_b==c808,_SAGE_VAR_beta==(-c803)-c799-c795+6,_SAGE_VAR_c==c809,_SAGE_VAR_d==2-c808,_SAGE_VAR_delta==c810,_SAGE_VAR_e==((-(sqrt(7)*I+1)*c808*c809)-((-2*sqrt(7)*I)-2)*c808)/2,_SAGE_VAR_epsilon==c793+c792-1,_SAGE_VAR_eta==(-c798)-c797-c793-c792+5,_SAGE_VAR_f==(1-sqrt(7)*I)/4,_SAGE_VAR_g==2-c809,_SAGE_VAR_gamma==2,_SAGE_VAR_h==c809,_SAGE_VAR_i==(sqrt(7)*I+11)/4,_SAGE_VAR_j==c794-1,_SAGE_VAR_k==((sqrt(7)*I+1)*c808*c809+((-2*sqrt(7)*I)-2)*c808)/2+3,_SAGE_VAR_kappa==2-c807,_SAGE_VAR_l==c797+c792-1,_SAGE_VAR_lmbda==c811,_SAGE_VAR_m==c808,_SAGE_VAR_mu==2-c811,_SAGE_VAR_n==2-c808,_SAGE_VAR_nu==(-c806)-c805+c795+2,_SAGE_VAR_o==4-c794,_SAGE_VAR_p==c800+c793-1,_SAGE_VAR_phi==(-c810)+c799+2,_SAGE_VAR_q==(-c800)-c797-c793-c792+5,_SAGE_VAR_r==((sqrt(7)*I+5)*c801)/4,_SAGE_VAR_s==(5-sqrt(7)*I)/4,_SAGE_VAR_t==c802+c801-2,_SAGE_VAR_u==(5-sqrt(7)*I)/4,_SAGE_VAR_v==(sqrt(7)*I+5)/2,_SAGE_VAR_w==((2*sqrt(7)*I+2)*c808*(2-c809)+((-sqrt(7)*I)-5)*c801+4)/4,_SAGE_VAR_x==(8-(sqrt(7)*I+1)*c808*(2-c809))/2,_SAGE_VAR_y==(-c799)-c795+4,_SAGE_VAR_z==(-c802)-c801+6,_SAGE_VAR_zeta==c798+c797-1],union())]' in Sage"
     ]
    }
   ],
   "source": [
    "weights = var('a b c d e f g h i j k l m n o p q r s t u v w x y z A B C D E F G H I J K L M N O P Q R S T U V W X Y Z Xp alpha beta gamma delta epsilon zeta kappa nu phi eta lmbda mu')\n",
    "\n",
    "solve([a+c==2, b+d==2,\n",
    "      g-a==0, e+k==3,\n",
    "      f+i==3, m-b==0,\n",
    "      h-c==0, j+o==3,\n",
    "      l+p+q==3, n-d==0,\n",
    "      s-f==1, r+w-e==1,\n",
    "     -g-h==-2, t+z==4,\n",
    "      u+v-i==1, C-j==1,\n",
    "      A+G-l==1, x-k==1,\n",
    "      y+D+I==4, -m-n==-2,\n",
    "      B+K-p==1, E+F-o==1,\n",
    "     H+L-q==1, J==1,\n",
    "     M==2, Q-r==-1,\n",
    "     O-s-u==-1, N+S-t==2,\n",
    "     P-v==-1, Xp==2,\n",
    "     T+beta-y==2, R-w-x==-1,\n",
    "     epsilon-A-B==-1, U+W-z==2,\n",
    "     V+X+nu-D==2, Z-E-C==-1,\n",
    "     Y+kappa==2, alpha-F==-1,\n",
    "     zeta-G-H==-1, gamma==2,\n",
    "     delta+phi-I==2, -J==-1,\n",
    "     eta-K-L==-1, lmbda+mu==2,\n",
    "      a==e*f/b, r==M*N/s, f==s*u/i],\n",
    "      weights,solution_dict=True)"
   ]
  },
  {
   "cell_type": "code",
   "execution_count": null,
   "metadata": {},
   "outputs": [],
   "source": [
    "weights2 = var(\"e k x w r R Q\")"
   ]
  },
  {
   "cell_type": "code",
   "execution_count": null,
   "metadata": {},
   "outputs": [],
   "source": [
    "solve([e*k==w*x, r*w==Q*R, e+k==3, r+w-e==1, x-k==1, Q+R==3, Q-r==-1, R-w-x==-1],weights2)"
   ]
  },
  {
   "cell_type": "code",
   "execution_count": null,
   "metadata": {},
   "outputs": [],
   "source": [
    "weights3=var(\"j o C E F Z alpha\")"
   ]
  },
  {
   "cell_type": "code",
   "execution_count": null,
   "metadata": {},
   "outputs": [],
   "source": [
    "solve([j*C==o*E,E*F==Z*alpha,j+o==3,C-j==1, E+F-o==1, Z-E-C==-1,-Z-alpha==-3,alpha-F==-1],weights3)"
   ]
  },
  {
   "cell_type": "code",
   "execution_count": null,
   "metadata": {},
   "outputs": [],
   "source": [
    "weights4=var(\"f i s u v O P\")"
   ]
  },
  {
   "cell_type": "code",
   "execution_count": null,
   "metadata": {},
   "outputs": [],
   "source": [
    "solve([f*i==s*u, u*v==O*P, s-f==1, u+v-i==1, O-s-u==-1, f+i==3, P-v==-1,-O-P==-3],weights4)"
   ]
  },
  {
   "cell_type": "code",
   "execution_count": null,
   "metadata": {},
   "outputs": [],
   "source": [
    "weights=var(\"a b c d e f g h i j k l m n o p q r s\")\n",
    "for w in weights:\n",
    "    assume(w, \"rational\")\n",
    "    assume(w>0)"
   ]
  },
  {
   "cell_type": "code",
   "execution_count": null,
   "metadata": {},
   "outputs": [],
   "source": [
    "solve([a+c==2,e-a==0,h-c==0,-e-h==-2,f+g==3,l-f==1,o+p-g==1,r==1,b==1,d==2,-k==-2,i+j==2,q-i==0,s-j==0,-q-s==-2,m+n==3, f==a*b/d, m==d*e/l, i==b*c/g,o==f*g/l],weights)"
   ]
  },
  {
   "cell_type": "code",
   "execution_count": null,
   "metadata": {},
   "outputs": [],
   "source": [
    "assumptions()"
   ]
  },
  {
   "cell_type": "code",
   "execution_count": 20,
   "metadata": {},
   "outputs": [
    {
     "data": {
      "text/plain": [
       "[a + b + c == 3, -a + d + e == 1, -b + f + g == 1, -c + h + i == 1, -d - f + j == -1, -e - h + k == -1, -j - k - l == -3, l == f*h/j, -g - i + l == -1]"
      ]
     },
     "execution_count": 20,
     "metadata": {},
     "output_type": "execute_result"
    }
   ],
   "source": [
    "weights_cube = var(\"a b c d e f g h i j k l\")\n",
    "solve([a+b+c==3,\n",
    "       d+e-a==1, f+g-b==1, h+i-c==1,\n",
    "       j-d-f==-1, k-e-h==-1, l-g-i==-1,\n",
    "       -j-k-l==-3,l==f*h/j],weights_cube)"
   ]
  },
  {
   "cell_type": "code",
   "execution_count": 61,
   "metadata": {},
   "outputs": [],
   "source": [
    "R.<a,b,c,d,e,f,g,h,i,j,k,l> = QQ[]"
   ]
  },
  {
   "cell_type": "code",
   "execution_count": 65,
   "metadata": {},
   "outputs": [
    {
     "name": "stdout",
     "output_type": "stream",
     "text": [
      "Defining a, b, c, d, e, f, g, h, i, j, k, l\n"
     ]
    }
   ],
   "source": [
    "R.inject_variables()"
   ]
  },
  {
   "cell_type": "code",
   "execution_count": 66,
   "metadata": {},
   "outputs": [],
   "source": [
    "J = R.ideal(a+b+c-3,\n",
    "       d+e-a-1, f+g-b-1, h+i-c-1,\n",
    "       j-d-f+1, k-e-h+1, l-g-i+1,\n",
    "       -j-k-l+3,a*c-e*h,a*b-f*d,d*e-j*k,h*i-k*l,f*g-j*l,b*c-g*i)"
   ]
  },
  {
   "cell_type": "code",
   "execution_count": 70,
   "metadata": {},
   "outputs": [
    {
     "data": {
      "text/plain": [
       "[i^2*l + 2*i*k*l + k^2*l - 4*i^2 - 4*k*l + 4*i, f*h + f*l + h*l + l^2 - 4*l, f*i - f*l - k*l - l^2 - f + 3*l, h*i - k*l, f*k + f*l + i*l + 2*k*l + l^2 + f - 4*i - 3*l, h*k + i*l + 2*k*l - 4*h - 4*i + 4, a + f + h + l - 4, b - f + i - l, c - h - i + 1, d + f + k + l - 4, e + h - k - 1, g + i - l - 1, j + k + l - 3]"
      ]
     },
     "execution_count": 70,
     "metadata": {},
     "output_type": "execute_result"
    }
   ],
   "source": [
    "J.dimension()\n",
    "J.groebner_basis()"
   ]
  },
  {
   "cell_type": "code",
   "execution_count": 81,
   "metadata": {},
   "outputs": [
    {
     "data": {
      "text/plain": [
       "1"
      ]
     },
     "execution_count": 81,
     "metadata": {},
     "output_type": "execute_result"
    }
   ],
   "source": [
    "JS = S.ideal(a+b-3,c+d-a-1,e-b-1,f-c+1,g-d-e+1,-f-g+3,a*b-d*e,c*d-f*g)\n",
    "JS.dimension()"
   ]
  },
  {
   "cell_type": "code",
   "execution_count": 62,
   "metadata": {},
   "outputs": [],
   "source": [
    "S.<a,b,c,d,e,f,g> = QQ[]"
   ]
  },
  {
   "cell_type": "code",
   "execution_count": 79,
   "metadata": {},
   "outputs": [
    {
     "data": {
      "text/plain": [
       "[{b: -7/50, c: 200/43, a: 157/50, f: 157/43, g: -28/43, d: -1099/2150, e: 43/50}]"
      ]
     },
     "execution_count": 79,
     "metadata": {},
     "output_type": "execute_result"
    }
   ],
   "source": [
    "JS.variety()"
   ]
  },
  {
   "cell_type": "code",
   "execution_count": 16,
   "metadata": {},
   "outputs": [
    {
     "name": "stdout",
     "output_type": "stream",
     "text": [
      "Defining a, b, c, d, e, f, g, h, i, j, k, l, m, n, o, p, q, r, s\n"
     ]
    },
    {
     "data": {
      "text/plain": [
       "0"
      ]
     },
     "execution_count": 16,
     "metadata": {},
     "output_type": "execute_result"
    }
   ],
   "source": [
    "L33 = PolynomialRing(QQ, [char for char in 'abcdefghijklmnopqrs'])\n",
    "L33.inject_variables()\n",
    "S = L33.ideal(a+c-2,e-a,h-c,-e-h+2,f+g-3,l-f-1,o+p-q-1,r-1,\n",
    "              b-1,d-2,-k+2,i+j-2,q-i,s-j,-q-s+2,m+n-3,\n",
    "              d*f-a*b,d*e-l*m,b*c-g*i,f*g-l*o,h*j-n*r)\n",
    "S.dimension()"
   ]
  },
  {
   "cell_type": "code",
   "execution_count": 17,
   "metadata": {},
   "outputs": [
    {
     "data": {
      "text/plain": [
       "[{i: 1/2, b: 1, c: 4/3, n: 2, o: 2/3, a: 2/3, l: 4/3, m: 1, f: 1/3, g: 8/3, r: 1, s: 3/2, d: 2, e: 2/3, p: 5/6, q: 1/2, j: 3/2, k: 2, h: 4/3}]"
      ]
     },
     "execution_count": 17,
     "metadata": {},
     "output_type": "execute_result"
    }
   ],
   "source": [
    "S.variety()"
   ]
  },
  {
   "cell_type": "code",
   "execution_count": 114,
   "metadata": {},
   "outputs": [],
   "source": [
    "set_verbose(2)"
   ]
  },
  {
   "cell_type": "code",
   "execution_count": null,
   "metadata": {},
   "outputs": [],
   "source": [
    "L34 = PolynomialRing(QQ, [char for char in 'abcdefghijklmnopqrstuvwxyzABCDEFGHIJKLMNOPQRSTUVWXYZ'] + ['Xp','alpha','beta','gamma','delta','epsilon','zeta', 'kappa', 'nu', 'phi', 'eta', 'lmbda', 'mu'])\n",
    "L34.inject_variables()\n",
    "\n",
    "R1 = L34.ideal(a+c-2, g-a-0, h-c-0,-g-h+2, a*c-g*h)\n",
    "B1 = L34.ideal(b+d-2, m-b-0, n-d-0,-m-n+2, b*d-m*n)\n",
    "R2 = L34.ideal(f+i-3, s-f-1, u+v-i-1, O-s-u+1, P-v+1, -O-P+3, f*i-s*u, u*v-O*P)\n",
    "B2 = L34.ideal(e+k-3, r-w-e-1, x-k-1, Q-r+1, R-w-x+1, -Q-R+3, r*w-Q*R, e*k-x*w)\n",
    "R3 = L34.ideal(l+p+q-3, A+G-l-1, B+K-p-1, H+L-q-1, epsilon-A-B+1, zeta-G-H+1, eta-K-L+1, epsilon+eta+zeta-3)\n",
    "B3 = L34.ideal(j+o-3, E+F-o-1, C-j-1, Z-E-C+1, alpha-F+1, -Z-alpha+3, E*F-Z*alpha, j*o-C*E)\n",
    "R4 = L34.ideal(M-2)\n",
    "B4 = L34.ideal(J-1)\n",
    "R5 = L34.ideal(y+D+I-4, T+beta-y-2, V+X+nu-D-2,)\n",
    "B5 = L34.ideal(t+z-4,N+S-t-2,U+W-z-2, t*z-S*U)\n",
    "links = [a*b-e*f, e*g-s*t, b*c-i*j, l*n-x*y, n*p-D*E, r*S-M*N, n*q-J*I, v*C-X*Xp]\n",
    "RB = L34.ideal(sum([I.groebner_basis() for I in [R1,B1,R2,B2,R3,B3,R4,B4,R5,B5]],links))\n",
    "rRB = L34.ideal(RB.interreduced_basis())\n",
    "\n",
    "list(rRB.basis)\n",
    "verbose(rRB.dimension(),level=2)"
   ]
  },
  {
   "cell_type": "code",
   "execution_count": 1,
   "metadata": {},
   "outputs": [
    {
     "name": "stdout",
     "output_type": "stream",
     "text": [
      "Defining a, b, c, d, e, f, g, h, i, j, k, l, m, n, o, p, q, r, s, t, u, v, w, x, y, z, A, B, C, D, E, F, G, H, I, J, K, L, M, N, O, P, Q, R, S, T, U, V, W, X, Y, Z, Xp, alpha, beta, gamma, delta, epsilon, zeta, kappa, nu, phi, eta, lmbda, mu\n"
     ]
    }
   ],
   "source": [
    "S = L34.ideal(a+c-2, b+d-2,\n",
    "      g-a-0, e+k-3,\n",
    "      f+i-3, m-b-0,\n",
    "      h-c-0, j+o-3,\n",
    "      l+p+q-3, n-d-0,\n",
    "      s-f-1, r+w-e-1,\n",
    "     -g-h+2, t+z-4,\n",
    "      u+v-i-1, C-j-1,\n",
    "      A+G-l-1, x-k-1,\n",
    "      y+D+I-4, -m-n+2,\n",
    "      B+K-p-1, E+F-o-1,\n",
    "     H+L-q-1, J-1,\n",
    "     M-2, Q-r+1,\n",
    "     O-s-u+1, N+S-t-2,\n",
    "     P-v+1, Xp-2,\n",
    "     T+beta-y-2, R-w-x+1,\n",
    "     epsilon-A-B+1, U+W-z-2,\n",
    "     V+X+nu-D-2, Z-E-C+1,\n",
    "     Y+kappa-2, alpha-F+1,\n",
    "     zeta-G-H+1, gamma-2,\n",
    "     delta+phi-I-2, -J+1,\n",
    "     eta-K-L+1, lmbda+mu-2,     a*b-e*f, a*d-k*l,  b*c-i*j, c*d-o*p,\n",
    "     e*g-s*t, e*k-w*x)\n",
    "f = singular(S).facstd()"
   ]
  },
  {
   "cell_type": "code",
   "execution_count": 2,
   "metadata": {},
   "outputs": [
    {
     "data": {
      "text/plain": [
       "[1]:\n",
       "   _[1]=lmbda+mu-2\n",
       "   _[2]=epsilon+zeta+eta-3\n",
       "   _[3]=gamma-2\n",
       "   _[4]=Xp-2\n",
       "   _[5]=Z+alpha-3\n",
       "   _[6]=Y+kappa-2\n",
       "   _[7]=T+V+X+beta+delta+nu+phi-10\n",
       "   _[8]=Q+R-3\n",
       "   _[9]=O+P-3\n",
       "   _[10]=N+S+U+W-8\n",
       "   _[11]=M-2\n",
       "   _[12]=K+L-eta-1\n",
       "   _[13]=J-1\n",
       "   _[14]=I-delta-phi+2\n",
       "   _[15]=G+H-zeta-1\n",
       "   _[16]=F-alpha-1\n",
       "   _[17]=D-V-X-nu+2\n",
       "   _[18]=C+E-Z-1\n",
       "   _[19]=A+B-epsilon-1\n",
       "   _[20]=z-U-W+2\n",
       "   _[21]=y-T-beta+2\n",
       "   _[22]=w+x-R-1\n",
       "   _[23]=v-P-1\n",
       "   _[24]=t-N-S+2\n",
       "   _[25]=s+u-O-1\n",
       "   _[26]=r-Q-1\n",
       "   _[27]=q-H-L+1\n",
       "   _[28]=p-B+L-eta\n",
       "   _[29]=o-E-alpha\n",
       "   _[30]=m+n-2\n",
       "   _[31]=l+B+H-epsilon-zeta-1\n",
       "   _[32]=k-x+1\n",
       "   _[33]=j+E-Z\n",
       "   _[34]=i-u-P\n",
       "   _[35]=g+h-2\n",
       "   _[36]=f+u-O\n",
       "   _[37]=e+x-Q-R-1\n",
       "   _[38]=d-n\n",
       "   _[39]=c-h\n",
       "   _[40]=b+n-2\n",
       "   _[41]=a+h-2\n",
       "   _[42]=x*R-4*x+4\n",
       "   _[43]=2*h*R-4*u*R+B*R+H*R-4*P*R+R*eta-8*h+12*u+12*P+4*R-20\n",
       "   _[44]=u*E-B*E+E*L+E*P+u*alpha-B*alpha+L*alpha+P*alpha-E*eta-alpha*eta+2*h-3*u-3*P\n",
       "   _[45]=x*B-B*E+x*H+E*L-B*alpha+L*alpha+x*eta-E*eta-alpha*eta+2*n-4*x-B-H-eta+4\n",
       "   _[46]=u*x-B*E+E*L+x*P-B*alpha+L*alpha-E*eta-alpha*eta+2*h+2*n-4*u-3*x-4*P+8\n",
       "   _[47]=h*x-u*U-P*U-u*W-P*W-4*h+6*u-2*x+6*P+4*U+4*W-16\n",
       "   _[48]=h*n-B*E+E*L-B*alpha+L*alpha-E*eta-alpha*eta\n",
       "   _[49]=u*R*U+P*R*U+u*R*W+P*R*W+4*h*R-6*u*R-6*P*R-4*u*U-4*P*U-4*R*U-4*u*W-4*P*W-4*R*W-12*h+24*u+24*P+16*R+16*U+16*W-72\n",
       "   _[50]=u^2*U-u*B*U-u*H*U+2*u*P*U-B*P*U-H*P*U+P^2*U+u^2*W-u*B*W-u*H*W+2*u*P*W-B*P*W-H*P*W+P^2*W-u*U*eta-P*U*eta-u*W*eta-P*W*eta+2*h^2-6*u^2-3*h*B+6*u*B-3*h*H+6*u*H-12*u*P+6*B*P+6*H*P-6*P^2-3*u*U+4*B*U+4*H*U-3*P*U-3*u*W+4*B*W+4*H*W-3*P*W-3*h*eta+6*u*eta+6*P*eta+4*U*eta+4*W*eta+4*h+18*u-18*B-18*H+18*P-4*U-4*W-18*eta+8\n",
       "   _[51]=E*H*R+E*L*R-n*R*U+2*E*R*U-n*R*W+2*E*R*W+H*R*alpha+L*R*alpha+2*R*U*alpha+2*R*W*alpha-2*h*E-4*E*R+4*n*U+2*u*U-8*E*U+2*P*U-2*R*U+4*n*W+2*u*W-8*E*W+2*P*W-2*R*W-2*h*alpha-4*R*alpha-8*U*alpha-8*W*alpha+6*h-12*u+16*E-12*P-8*R+2*U+2*W+16*alpha+36\n",
       "   _[52]=B*E*R-E*L*R+B*R*alpha-L*R*alpha+E*R*eta+R*alpha*eta-4*B*E+4*E*L-2*h*R-2*n*R+4*u*R+4*P*R-4*B*alpha+4*L*alpha-4*E*eta-4*alpha*eta+8*h+8*n-12*u-12*P-8*R+20\n",
       "   _[53]=3*n*B*R-n*H*R+2*u*H*R-4*n*L*R+2*u*L*R+2*H*P*R+2*L*P*R+3*n*R*eta+4*n*u-16*n*B+16*n*L+4*n*P-8*n*R-8*u*R+18*B*R+2*H*R-16*L*R-8*P*R-16*n*eta+18*R*eta+36*n-40*B+40*L-8*R-40*eta\n",
       "   _[54]=4*n*u*R-n*B*R-n*H*R+4*n*P*R-n*R*eta-12*n*u-12*n*P-8*n*R+2*B*R+2*H*R+2*R*eta+36*n-8*R\n",
       "   _[55]=B*E*H+B*E*L-E*H*L-E*L^2+B*H*alpha+B*L*alpha-H*L*alpha-L^2*alpha+E*H*eta+E*L*eta+H*alpha*eta+L*alpha*eta+2*n*u-2*n*B-B*E-2*h*H-2*n*H+3*u*H-2*h*L+3*u*L+E*L+2*n*P+3*H*P+3*L*P-B*alpha+L*alpha-2*n*eta-E*eta-alpha*eta+8*h+2*n-12*u-5*B-5*H-12*P-5*eta+20\n",
       "   _[56]=x*E*H+x*E*L+x*H*alpha+x*L*alpha-2*h*E-x*E-E*H-E*L+2*u*U+2*P*U+2*u*W+2*P*W-2*h*alpha-x*alpha-H*alpha-L*alpha+6*h+6*n-12*u-5*x-4*E-12*P-8*U-8*W-4*alpha+56\n",
       "   _[57]=B*E^2-E^2*L-n*u*U-n*P*U-n*u*W-n*P*W+2*B*E*alpha-2*E*L*alpha+B*alpha^2-L*alpha^2+E^2*eta+2*E*alpha*eta+alpha^2*eta+6*n*u-2*n*x-2*h*E-2*n*E+3*x*E-3*B*E+3*E*L+6*n*P+4*n*U+2*u*U+2*P*U+4*n*W+2*u*W+2*P*W-2*h*alpha-2*n*alpha+3*x*alpha-3*B*alpha+3*L*alpha-3*E*eta-3*alpha*eta+6*h-10*n-12*u-5*x-8*E-12*P-8*U-8*W-8*alpha+56\n",
       "   _[58]=h*B*E-h*E*L-u^2*U-2*u*P*U-P^2*U-u^2*W-2*u*P*W-P^2*W+h*B*alpha-h*L*alpha+h*E*eta+h*alpha*eta-2*h^2+6*u^2-4*B*E+4*E*L+12*u*P+6*P^2+7*u*U+7*P*U+7*u*W+7*P*W-4*B*alpha+4*L*alpha-4*E*eta-4*alpha*eta+8*h+4*n-42*u-42*P-12*U-12*W+64\n",
       "   _[59]=2*h^2*E-3*h*E*H-3*h*E*L-2*h*u*U+2*n*u*U-2*n*B*U-2*n*H*U+4*E*H*U+4*E*L*U-2*h*P*U+2*n*P*U-2*h*u*W+2*n*u*W-2*n*B*W-2*n*H*W+4*E*H*W+4*E*L*W-2*h*P*W+2*n*P*W+2*h^2*alpha-3*h*H*alpha-3*h*L*alpha+4*H*U*alpha+4*L*U*alpha+4*H*W*alpha+4*L*W*alpha-2*n*U*eta-2*n*W*eta-6*h^2+12*h*u-12*n*u+12*n*B+4*h*E-6*B*E+12*n*H-18*E*H-12*E*L+12*h*P-12*n*P+14*h*U+2*n*U-5*B*U-4*E*U-5*H*U+14*h*W+2*n*W-5*B*W-4*E*W-5*H*W+4*h*alpha-6*B*alpha-18*H*alpha-12*L*alpha-4*U*alpha-4*W*alpha+12*n*eta-6*E*eta-5*U*eta-5*W*eta-6*alpha*eta-60*h+30*B+8*E+30*H-16*U-16*W+8*alpha+30*eta+72\n",
       "   _[60]=2*n*x^2-3*x^2*E-2*n^2*U-n*x*U+4*n*E*U-2*n^2*W-n*x*W+4*n*E*W-3*x^2*alpha+4*n*U*alpha+4*n*W*alpha+12*n^2-10*n*x+5*x^2-24*n*E+24*x*E+2*x*U-8*E*U+2*x*W-8*E*W-24*n*alpha+24*x*alpha-8*U*alpha-8*W*alpha+32*n-52*x+8*U+8*W+32\n",
       "   _[61]=2*n*u^2-4*n*u*B+2*n*B^2-2*h*u*H-2*n*u*H+3*u^2*H+2*n*B*H-2*h*u*L+2*n*u*L+3*u^2*L-2*n*B*L-2*n*H*L+4*n*u*P-4*n*B*P-2*h*H*P-2*n*H*P+6*u*H*P-2*h*L*P+2*n*L*P+6*u*L*P+2*n*P^2+3*H*P^2+3*L*P^2-4*n*u*eta+4*n*B*eta+2*n*H*eta-2*n*L*eta-4*n*P*eta+2*n*eta^2+8*h*u+2*n*u-12*u^2-6*h*B-2*n*B+4*u*B+5*B^2-5*u*H+5*B*H+6*h*L+2*n*L-9*u*L-5*B*L-5*H*L+8*h*P+2*n*P-24*u*P+4*B*P-5*H*P-9*L*P-12*P^2-6*h*eta-2*n*eta+4*u*eta+10*B*eta+5*H*eta-5*L*eta+4*P*eta+5*eta^2+20*u-20*B+20*L+20*P-20*eta\n",
       "   _[62]=2*n*H*R*U+2*n*L*R*U+2*n*H*R*W+2*n*L*R*W-9*n*B*R-9*n*H*R+2*u*H*R-2*B*H*R-2*H^2*R+2*u*L*R-2*B*L*R-2*H*L*R+2*H*P*R+2*L*P*R-8*n*u*U+8*n*B*U-4*u*H*U-8*n*L*U-4*u*L*U-8*n*P*U-4*H*P*U-4*L*P*U-8*n*R*U-12*B*R*U-8*H*R*U+4*L*R*U-8*n*u*W+8*n*B*W-4*u*H*W-8*n*L*W-4*u*L*W-8*n*P*W-4*H*P*W-4*L*P*W-8*n*R*W-12*B*R*W-8*H*R*W+4*L*R*W-9*n*R*eta-2*H*R*eta-2*L*R*eta+8*n*U*eta-12*R*U*eta+8*n*W*eta-12*R*W*eta+36*n*u+24*B*E+4*h*H+4*h*L-24*E*L+36*n*P+72*n*R-8*u*R+2*B*R+10*H*R+8*L*R-8*P*R+24*n*U+16*u*U+20*B*U+16*H*U-4*L*U+16*P*U+32*R*U+24*n*W+16*u*W+20*B*W+16*H*W-4*L*W+16*P*W+32*R*W+24*B*alpha-24*L*alpha+24*E*eta+2*R*eta+20*U*eta+20*W*eta+24*alpha*eta-16*h-300*n-32*H-32*L-8*R-64*U-64*W+128\n",
       "   _[63]=n^2*R*U-2*n*E*R*U+n^2*R*W-2*n*E*R*W-2*n*R*U*alpha-2*n*R*W*alpha-6*n^2*R+12*n*E*R-4*n^2*U+8*n*E*U+4*E*R*U-4*n^2*W+8*n*E*W+4*E*R*W+12*n*R*alpha+8*n*U*alpha+4*R*U*alpha+8*n*W*alpha+4*R*W*alpha+24*n^2+4*n*x-48*n*E-6*x*E-16*n*R-2*n*U-16*E*U-4*R*U-2*n*W-16*E*W-4*R*W-48*n*alpha-6*x*alpha-16*U*alpha-16*W*alpha+44*n+10*x+48*E-16*R+20*U+20*W+48*alpha-40\n",
       "   _[64]=u*B*H*U+u*H^2*U+u*B*L*U+u*H*L*U+B*H*P*U+H^2*P*U+B*L*P*U+H*L*P*U+u*B*H*W+u*H^2*W+u*B*L*W+u*H*L*W+B*H*P*W+H^2*P*W+B*L*P*W+H*L*P*W+u*H*U*eta+u*L*U*eta+H*P*U*eta+L*P*U*eta+u*H*W*eta+u*L*W*eta+H*P*W*eta+L*P*W*eta-2*h^2*H+3*h*u*H+3*h*B*H-6*u*B*H+3*h*H^2-6*u*H^2-2*h^2*L+3*h*u*L+3*h*B*L-6*u*B*L+3*h*H*L-6*u*H*L+3*h*H*P-6*B*H*P-6*H^2*P+3*h*L*P-6*B*L*P-6*H*L*P-u*B*U-5*u*H*U-4*B*H*U-4*H^2*U-4*u*L*U-4*B*L*U-4*H*L*U-B*P*U-5*H*P*U-4*L*P*U-u*B*W-5*u*H*W-4*B*H*W-4*H^2*W-4*u*L*W-4*B*L*W-4*H*L*W-B*P*W-5*H*P*W-4*L*P*W+3*h*H*eta-6*u*H*eta+3*h*L*eta-6*u*L*eta-6*H*P*eta-6*L*P*eta-u*U*eta-4*H*U*eta-4*L*U*eta-P*U*eta-u*W*eta-4*H*W*eta-4*L*W*eta-P*W*eta+8*h^2-12*h*u-4*n*u-12*h*B+4*n*B+12*u*B-16*h*H+24*u*H+18*B*H+18*H^2-4*h*L-4*n*L+12*u*L+18*B*L+18*H*L-12*h*P-4*n*P+12*B*P+24*H*P+12*L*P+4*u*U+4*B*U+20*H*U+16*L*U+4*P*U+4*u*W+4*B*W+20*H*W+16*L*W+4*P*W-12*h*eta+4*n*eta+12*u*eta+18*H*eta+18*L*eta+12*P*eta+4*U*eta+4*W*eta+16*h-8*B-80*H-72*L-16*U-16*W-8*eta+32\n",
       "   _[65]=n*u*H*U+n*u*L*U+n*H*P*U+n*L*P*U+n*u*H*W+n*u*L*W+n*H*P*W+n*L*P*W-6*n*u*H+2*n*x*H-6*n*u*L+2*n*x*L-6*n*H*P-6*n*L*P-n*u*U-4*n*H*U-2*u*H*U-4*n*L*U-2*u*L*U-n*P*U-2*H*P*U-2*L*P*U-n*u*W-4*n*H*W-2*u*H*W-4*n*L*W-2*u*L*W-n*P*W-2*H*P*W-2*L*P*W-2*n*x+12*n*B-18*B*E+22*n*H+3*u*H+5*x*H+10*n*L+3*u*L+5*x*L+18*E*L+3*H*P+3*L*P+4*n*U+8*u*U+8*H*U+8*L*U+8*P*U+4*n*W+8*u*W+8*H*W+8*L*W+8*P*W-18*B*alpha+18*L*alpha+12*n*eta-18*E*eta-18*alpha*eta-4*n-12*u-20*x+30*B-26*H-56*L-12*P-32*U-32*W+30*eta+104\n",
       "   _[66]=2*n*u*B*U-2*n*B^2*U+2*h*u*H*U-2*n*B*H*U-3*u*B*H*U-3*u*H^2*U+2*h*u*L*U-2*n*u*L*U+2*n*B*L*U-3*u*B*L*U+2*n*H*L*U-3*u*H*L*U+2*n*B*P*U+2*h*H*P*U-3*B*H*P*U-3*H^2*P*U+2*h*L*P*U-2*n*L*P*U-3*B*L*P*U-3*H*L*P*U+2*n*u*B*W-2*n*B^2*W+2*h*u*H*W-2*n*B*H*W-3*u*B*H*W-3*u*H^2*W+2*h*u*L*W-2*n*u*L*W+2*n*B*L*W-3*u*B*L*W+2*n*H*L*W-3*u*H*L*W+2*n*B*P*W+2*h*H*P*W-3*B*H*P*W-3*H^2*P*W+2*h*L*P*W-2*n*L*P*W-3*B*L*P*W-3*H*L*P*W+2*n*u*U*eta-4*n*B*U*eta-2*n*H*U*eta-3*u*H*U*eta+2*n*L*U*eta-3*u*L*U*eta+2*n*P*U*eta-3*H*P*U*eta-3*L*P*U*eta+2*n*u*W*eta-4*n*B*W*eta-2*n*H*W*eta-3*u*H*W*eta+2*n*L*W*eta-3*u*L*W*eta+2*n*P*W*eta-3*H*P*W*eta-3*L*P*W*eta-2*n*U*eta^2-2*n*W*eta^2-12*n*u*B+12*n*B^2-6*B^2*E+6*h^2*H-12*h*u*H-9*h*B*H+12*n*B*H+18*u*B*H-9*h*H^2+18*u*H^2+6*h^2*L-12*h*u*L+12*n*u*L-9*h*B*L-12*n*B*L+18*u*B*L+12*B*E*L-9*h*H*L-12*n*H*L+18*u*H*L-6*E*L^2-12*n*B*P-12*h*H*P+18*B*H*P+18*H^2*P-12*h*L*P+12*n*L*P+18*B*L*P+18*H*L*P-8*h*u*U-8*n*u*U+6*h*B*U+10*n*B*U+12*u*B*U-5*B^2*U+8*n*H*U+12*u*H*U+7*B*H*U+12*H^2*U-6*h*L*U-2*n*L*U+17*B*L*U+17*H*L*U-8*h*P*U-8*n*P*U+12*B*P*U+12*H*P*U-8*h*u*W-8*n*u*W+6*h*B*W+10*n*B*W+12*u*B*W-5*B^2*W+8*n*H*W+12*u*H*W+7*B*H*W+12*H^2*W-6*h*L*W-2*n*L*W+17*B*L*W+17*H*L*W-8*h*P*W-8*n*P*W+12*B*P*W+12*H*P*W-6*B^2*alpha+12*B*L*alpha-6*L^2*alpha-12*n*u*eta+24*n*B*eta-12*B*E*eta-9*h*H*eta+12*n*H*eta+18*u*H*eta-9*h*L*eta-12*n*L*eta+18*u*L*eta+12*E*L*eta-12*n*P*eta+18*H*P*eta+18*L*P*eta+6*h*U*eta+10*n*U*eta+12*u*U*eta-10*B*U*eta+7*H*U*eta+17*L*U*eta+12*P*U*eta+6*h*W*eta+10*n*W*eta+12*u*W*eta-10*B*W*eta+7*H*W*eta+17*L*W*eta+12*P*W*eta-12*B*alpha*eta+12*L*alpha*eta+12*n*eta^2-6*E*eta^2-5*U*eta^2-5*W*eta^2-6*alpha*eta^2-24*h^2+48*h*u+60*n*u+12*h*B-60*n*B-72*u*B+30*B^2+18*B*E+48*h*H-48*n*H-54*u*H-24*B*H-54*H^2+36*h*L+12*n*L+18*u*L-84*B*L-18*E*L-84*H*L+48*h*P+60*n*P-72*B*P-54*H*P+18*L*P-8*n*U-44*B*U-76*H*U-32*L*U-8*n*W-44*B*W-76*H*W-32*L*W+18*B*alpha-18*L*alpha+12*h*eta-60*n*eta-72*u*eta+60*B*eta+18*E*eta-24*H*eta-84*L*eta-72*P*eta-44*U*eta-44*W*eta+18*alpha*eta+30*eta^2-48*h+12*n-72*u+138*B+282*H+144*L-72*P+112*U+112*W+138*eta-264\n",
       "   _[67]=2*n^2*u*U-2*n^2*B*U-2*n^2*H*U+4*n*E*H*U+4*n*E*L*U+2*n^2*P*U+2*n^2*u*W-2*n^2*B*W-2*n^2*H*W+4*n*E*H*W+4*n*E*L*W+2*n^2*P*W+4*n*H*U*alpha+4*n*L*U*alpha+4*n*H*W*alpha+4*n*L*W*alpha-2*n^2*U*eta-2*n^2*W*eta-12*n^2*u+12*n^2*B-6*n*B*E+12*n^2*H-24*n*E*H-18*n*E*L-12*n^2*P+2*n^2*U+5*n*u*U-n*B*U-4*n*E*U-n*H*U-8*E*H*U-8*E*L*U+5*n*P*U+2*n^2*W+5*n*u*W-n*B*W-4*n*E*W-n*H*W-8*E*H*W-8*E*L*W+5*n*P*W-6*n*B*alpha-24*n*H*alpha-18*n*L*alpha-4*n*U*alpha-8*H*U*alpha-8*L*U*alpha-4*n*W*alpha-8*H*W*alpha-8*L*W*alpha+12*n^2*eta-6*n*E*eta-n*U*eta-n*W*eta-6*n*alpha*eta-30*n*u+18*n*x+24*n*B+18*h*E+24*n*E-27*x*E-15*B*E+24*n*H+21*E*H+36*E*L-30*n*P-56*n*U-18*u*U+10*B*U+32*E*U+10*H*U-18*P*U-56*n*W-18*u*W+10*B*W+32*E*W+10*H*W-18*P*W+18*h*alpha+24*n*alpha-27*x*alpha-15*B*alpha+21*H*alpha+36*L*alpha+32*U*alpha+32*W*alpha+24*n*eta-15*E*eta+10*U*eta+10*W*eta-15*alpha*eta-54*h+168*n+108*u+45*x-15*B-12*E-15*H+108*P+32*U+32*W-12*alpha-15*eta-444\n",
       "   _[68]=4*u*B*H*R-B^2*H*R+4*u*H^2*R-2*B*H^2*R-H^3*R+4*u*B*L*R-B^2*L*R+4*u*H*L*R-2*B*H*L*R-H^2*L*R+4*B*H*P*R+4*H^2*P*R+4*B*L*P*R+4*H*L*P*R+4*h*u*H*U+4*h*u*L*U+4*h*H*P*U+4*h*L*P*U-6*B^2*R*U-8*B*H*R*U-2*H^2*R*U+4*B*L*R*U+4*H*L*R*U+4*h*u*H*W+4*h*u*L*W+4*h*H*P*W+4*h*L*P*W-6*B^2*R*W-8*B*H*R*W-2*H^2*R*W+4*B*L*R*W+4*H*L*R*W+4*u*H*R*eta-2*B*H*R*eta-2*H^2*R*eta+4*u*L*R*eta-2*B*L*R*eta-2*H*L*R*eta+4*H*P*R*eta+4*L*P*R*eta-12*B*R*U*eta-8*H*R*U*eta+4*L*R*U*eta-12*B*R*W*eta-8*H*R*W*eta+4*L*R*W*eta-H*R*eta^2-L*R*eta^2-6*R*U*eta^2-6*R*W*eta^2-4*h^2*H+8*h*B*H-12*u*B*H+8*h*H^2-12*u*H^2-4*h^2*L+8*h*B*L-12*u*B*L+8*h*H*L-12*u*H*L-12*B*H*P-12*H^2*P-12*B*L*P-12*H*L*P-16*u*B*R+28*B^2*R-48*u*H*R+48*B*H*R+20*H^2*R-32*u*L*R-8*B*L*R-8*H*L*R-16*B*P*R-48*H*P*R-32*L*P*R-16*h*u*U+12*h*B*U+24*u*B*U+8*u*H*U-12*h*L*U-16*u*L*U-16*h*P*U+24*B*P*U+8*H*P*U-16*L*P*U+56*B*R*U+32*H*R*U-24*L*R*U-16*h*u*W+12*h*B*W+24*u*B*W+8*u*H*W-12*h*L*W-16*u*L*W-16*h*P*W+24*B*P*W+8*H*P*W-16*L*P*W+56*B*R*W+32*H*R*W-24*L*R*W+8*h*H*eta-12*u*H*eta+8*h*L*eta-12*u*L*eta-12*H*P*eta-12*L*P*eta-16*u*R*eta+56*B*R*eta+48*H*R*eta-8*L*R*eta-16*P*R*eta+12*h*U*eta+24*u*U*eta+24*P*U*eta+56*R*U*eta+12*h*W*eta+24*u*W*eta+24*P*W*eta+56*R*W*eta+28*R*eta^2+16*h^2-80*h*B-48*u*B-64*h*H+96*u*H+20*B*H+20*H^2+16*h*L+144*u*L+20*B*L+20*H*L-48*B*P+96*H*P+144*L*P+128*u*R-256*B*R-112*H*R+144*L*R+128*P*R-32*u*U-168*B*U-88*H*U+80*L*U-32*P*U-96*R*U-32*u*W-168*B*W-88*H*W+80*L*W-32*P*W-96*R*W-80*h*eta-48*u*eta+20*H*eta+20*L*eta-48*P*eta-256*R*eta-168*U*eta-168*W*eta+128*h-192*u+736*B+96*H-640*L-192*P+192*R+352*U+352*W+736*eta-704\n",
       "   _[69]=4*u^2*H*R-u*B*H*R-u*H^2*R+4*u^2*L*R-u*B*L*R-u*H*L*R+8*u*H*P*R-B*H*P*R-H^2*P*R+8*u*L*P*R-B*L*P*R-H*L*P*R+4*H*P^2*R+4*L*P^2*R-u*H*R*eta-u*L*R*eta-H*P*R*eta-L*P*R*eta+8*h*u*H-12*u^2*H+8*h*u*L-12*u^2*L+8*h*H*P-24*u*H*P+8*h*L*P-24*u*L*P-12*H*P^2-12*L*P^2-16*u^2*R+40*u*B*R-12*B^2*R-12*B*H*R-40*u*L*R+12*B*L*R+12*H*L*R-32*u*P*R+40*B*P*R-40*L*P*R-16*P^2*R+40*u*R*eta-24*B*R*eta-12*H*R*eta+12*L*R*eta+40*P*R*eta-12*R*eta^2-32*h*u+48*u^2+24*h*B-96*u*B+20*u*H-24*h*L+116*u*L-32*h*P+96*u*P-96*B*P+20*H*P+116*L*P+48*P^2+16*u*R-48*B*R+48*L*R+16*P*R+24*h*eta-96*u*eta-96*P*eta-48*R*eta-80*u+240*B-240*L-80*P+240*eta\n",
       "   _[70]=2*h^2*u*H-3*h*u^2*H+2*h^2*u*L-3*h*u^2*L+2*h^2*H*P-6*h*u*H*P+2*h^2*L*P-6*h*u*L*P-3*h*H*P^2-3*h*L*P^2-8*h^2*u+12*h*u^2+6*h^2*B-6*u^2*B-9*h*B^2+6*u*B^2+5*h*u*H-9*h*B*H+6*u*B*H-6*h^2*L+5*h*u*L+6*u^2*L+9*h*B*L-6*u*B*L+9*h*H*L-6*u*H*L-8*h^2*P+24*h*u*P-12*u*B*P+6*B^2*P+5*h*H*P+6*B*H*P+5*h*L*P+12*u*L*P-6*B*L*P-6*H*L*P+12*h*P^2-6*B*P^2+6*L*P^2+6*h^2*eta-6*u^2*eta-18*h*B*eta+12*u*B*eta-9*h*H*eta+6*u*H*eta+9*h*L*eta-6*u*L*eta-12*u*P*eta+12*B*P*eta+6*H*P*eta-6*L*P*eta-6*P^2*eta-9*h*eta^2+6*u*eta^2+6*P*eta^2-20*h*u+24*h*B-6*u*B-24*h*L+6*u*L-20*h*P-6*B*P+6*L*P+24*h*eta-6*u*eta-6*P*eta\n",
       "   _[71]=B^2*H*R*U+2*B*H^2*R*U+H^3*R*U+B^2*L*R*U+2*B*H*L*R*U+H^2*L*R*U-4*h*u*H*U^2-4*h*u*L*U^2-4*h*H*P*U^2-4*h*L*P*U^2+6*B^2*R*U^2+8*B*H*R*U^2+2*H^2*R*U^2-4*B*L*R*U^2-4*H*L*R*U^2+B^2*H*R*W+2*B*H^2*R*W+H^3*R*W+B^2*L*R*W+2*B*H*L*R*W+H^2*L*R*W-8*h*u*H*U*W-8*h*u*L*U*W-8*h*H*P*U*W-8*h*L*P*U*W+12*B^2*R*U*W+16*B*H*R*U*W+4*H^2*R*U*W-8*B*L*R*U*W-8*H*L*R*U*W-4*h*u*H*W^2-4*h*u*L*W^2-4*h*H*P*W^2-4*h*L*P*W^2+6*B^2*R*W^2+8*B*H*R*W^2+2*H^2*R*W^2-4*B*L*R*W^2-4*H*L*R*W^2+2*B*H*R*U*eta+2*H^2*R*U*eta+2*B*L*R*U*eta+2*H*L*R*U*eta+12*B*R*U^2*eta+8*H*R*U^2*eta-4*L*R*U^2*eta+2*B*H*R*W*eta+2*H^2*R*W*eta+2*B*L*R*W*eta+2*H*L*R*W*eta+24*B*R*U*W*eta+16*H*R*U*W*eta-8*L*R*U*W*eta+12*B*R*W^2*eta+8*H*R*W^2*eta-4*L*R*W^2*eta+H*R*U*eta^2+L*R*U*eta^2+6*R*U^2*eta^2+H*R*W*eta^2+L*R*W*eta^2+12*R*U*W*eta^2+6*R*W^2*eta^2-6*B^2*H*R-12*B*H^2*R-6*H^3*R-6*B^2*L*R-12*B*H*L*R-6*H^2*L*R+4*h^2*H*U-8*h*u*H*U-8*h*B*H*U-8*h*H^2*U+4*h^2*L*U-8*h*u*L*U-8*h*B*L*U-8*h*H*L*U-8*h*H*P*U-8*h*L*P*U-16*B^2*R*U-48*B*H*R*U-32*H^2*R*U-16*B*L*R*U-16*H*L*R*U+16*h*u*U^2-12*h*B*U^2-24*u*B*U^2-8*u*H*U^2+12*h*L*U^2+16*u*L*U^2+16*h*P*U^2-24*B*P*U^2-8*H*P*U^2+16*L*P*U^2-56*B*R*U^2-32*H*R*U^2+24*L*R*U^2+4*h^2*H*W-8*h*u*H*W-8*h*B*H*W-8*h*H^2*W+4*h^2*L*W-8*h*u*L*W-8*h*B*L*W-8*h*H*L*W-8*h*H*P*W-8*h*L*P*W-16*B^2*R*W-48*B*H*R*W-32*H^2*R*W-16*B*L*R*W-16*H*L*R*W+32*h*u*U*W-24*h*B*U*W-48*u*B*U*W-16*u*H*U*W+24*h*L*U*W+32*u*L*U*W+32*h*P*U*W-48*B*P*U*W-16*H*P*U*W+32*L*P*U*W-112*B*R*U*W-64*H*R*U*W+48*L*R*U*W+16*h*u*W^2-12*h*B*W^2-24*u*B*W^2-8*u*H*W^2+12*h*L*W^2+16*u*L*W^2+16*h*P*W^2-24*B*P*W^2-8*H*P*W^2+16*L*P*W^2-56*B*R*W^2-32*H*R*W^2+24*L*R*W^2-12*B*H*R*eta-12*H^2*R*eta-12*B*L*R*eta-12*H*L*R*eta-8*h*H*U*eta-8*h*L*U*eta-32*B*R*U*eta-48*H*R*U*eta-16*L*R*U*eta-12*h*U^2*eta-24*u*U^2*eta-24*P*U^2*eta-56*R*U^2*eta-8*h*H*W*eta-8*h*L*W*eta-32*B*R*W*eta-48*H*R*W*eta-16*L*R*W*eta-24*h*U*W*eta-48*u*U*W*eta-48*P*U*W*eta-112*R*U*W*eta-12*h*W^2*eta-24*u*W^2*eta-24*P*W^2*eta-56*R*W^2*eta-6*H*R*eta^2-6*L*R*eta^2-16*R*U*eta^2-16*R*W*eta^2+12*h*u*H+12*h*B*H+12*h*H^2+12*h*u*L+12*h*B*L+12*h*H*L+12*h*H*P+12*h*L*P-24*B^2*R+64*B*H*R+88*H^2*R+112*B*L*R+112*H*L*R-16*h^2*U+32*h*u*U+56*h*B*U+60*u*B*U+64*h*H*U+60*u*H*U+28*B*H*U+28*H^2*U+8*h*L*U+28*B*L*U+28*H*L*U+32*h*P*U+60*B*P*U+60*H*P*U+208*B*R*U+240*H*R*U+32*L*R*U+32*u*U^2+168*B*U^2+88*H*U^2-80*L*U^2+32*P*U^2+96*R*U^2-16*h^2*W+32*h*u*W+56*h*B*W+60*u*B*W+64*h*H*W+60*u*H*W+28*B*H*W+28*H^2*W+8*h*L*W+28*B*L*W+28*H*L*W+32*h*P*W+60*B*P*W+60*H*P*W+208*B*R*W+240*H*R*W+32*L*R*W+64*u*U*W+336*B*U*W+176*H*U*W-160*L*U*W+64*P*U*W+192*R*U*W+32*u*W^2+168*B*W^2+88*H*W^2-80*L*W^2+32*P*W^2+96*R*W^2+12*h*H*eta+12*h*L*eta-48*B*R*eta+64*H*R*eta+112*L*R*eta+56*h*U*eta+60*u*U*eta+28*H*U*eta+28*L*U*eta+60*P*U*eta+208*R*U*eta+168*U^2*eta+56*h*W*eta+60*u*W*eta+28*H*W*eta+28*L*W*eta+60*P*W*eta+208*R*W*eta+336*U*W*eta+168*W^2*eta-24*R*eta^2-48*h*u-16*n*u+48*h*B+16*n*B+144*u*B-128*h*H-96*u*H-96*B*H-96*H^2-176*h*L-16*n*L-240*u*L-96*B*L-96*H*L-48*h*P-16*n*P+144*B*P-96*H*P-240*L*P+128*B*R-416*H*R-544*L*R-128*h*U-240*u*U-640*B*U-608*H*U+32*L*U-240*P*U-512*R*U-352*U^2-128*h*W-240*u*W-640*B*W-608*H*W+32*L*W-240*P*W-512*R*W-704*U*W-352*W^2+48*h*eta+16*n*eta+144*u*eta-96*H*eta-96*L*eta+144*P*eta+128*R*eta-640*U*eta-640*W*eta+320*h+384*u-992*B+1024*H+2016*L+384*P+640*R+1984*U+1984*W-992*eta-2560\n",
       "   _[72]=2*n^2*E*H*U-4*n*E^2*H*U+2*n^2*E*L*U-4*n*E^2*L*U+2*n^2*E*H*W-4*n*E^2*H*W+2*n^2*E*L*W-4*n*E^2*L*W+2*n^2*H*U*alpha-8*n*E*H*U*alpha+2*n^2*L*U*alpha-8*n*E*L*U*alpha+2*n^2*H*W*alpha-8*n*E*H*W*alpha+2*n^2*L*W*alpha-8*n*E*L*W*alpha-4*n*H*U*alpha^2-4*n*L*U*alpha^2-4*n*H*W*alpha^2-4*n*L*W*alpha^2-12*n^2*E*H+24*n*E^2*H-12*n^2*E*L+24*n*E^2*L-2*n^2*E*U+4*n*E^2*U+n*E*H*U+8*E^2*H*U+n*E*L*U+8*E^2*L*U-2*n^2*E*W+4*n*E^2*W+n*E*H*W+8*E^2*H*W+n*E*L*W+8*E^2*L*W-12*n^2*H*alpha+48*n*E*H*alpha-12*n^2*L*alpha+48*n*E*L*alpha-2*n^2*U*alpha+8*n*E*U*alpha+n*H*U*alpha+16*E*H*U*alpha+n*L*U*alpha+16*E*L*U*alpha-2*n^2*W*alpha+8*n*E*W*alpha+n*H*W*alpha+16*E*H*W*alpha+n*L*W*alpha+16*E*L*W*alpha+24*n*H*alpha^2+24*n*L*alpha^2+4*n*U*alpha^2+8*H*U*alpha^2+8*L*U*alpha^2+4*n*W*alpha^2+8*H*W*alpha^2+8*L*W*alpha^2+12*n^2*x+12*n^2*E-36*n*x*E-18*h*E^2-24*n*E^2+27*x*E^2-24*n*E*H-21*E^2*H-24*n*E*L-21*E^2*L-24*n^2*U+56*n*E*U+18*B*E*U-32*E^2*U-10*E*H*U-28*E*L*U-24*n^2*W+56*n*E*W+18*B*E*W-32*E^2*W-10*E*H*W-28*E*L*W+12*n^2*alpha-36*n*x*alpha-36*h*E*alpha-48*n*E*alpha+54*x*E*alpha-24*n*H*alpha-42*E*H*alpha-24*n*L*alpha-42*E*L*alpha+56*n*U*alpha+18*B*U*alpha-64*E*U*alpha-10*H*U*alpha-28*L*U*alpha+56*n*W*alpha+18*B*W*alpha-64*E*W*alpha-10*H*W*alpha-28*L*W*alpha-18*h*alpha^2-24*n*alpha^2+27*x*alpha^2-21*H*alpha^2-21*L*alpha^2-32*U*alpha^2-32*W*alpha^2+18*E*U*eta+18*E*W*eta+18*U*alpha*eta+18*W*alpha*eta+60*n^2+84*n*x+108*h*E-66*n*E-126*x*E-108*B*E+12*E^2+15*E*H+123*E*L-36*h*U-60*n*U-32*E*U-36*h*W-60*n*W-32*E*W+108*h*alpha-66*n*alpha-126*x*alpha-108*B*alpha+24*E*alpha+15*H*alpha+123*L*alpha-32*U*alpha-32*W*alpha+12*alpha^2-108*E*eta-108*alpha*eta+54*h-66*n+135*x+660*E+216*U+216*W+660*alpha-1512\n",
       "   _[73]=2*n*B^2*H*U-2*h*u*H^2*U+2*n*B*H^2*U+2*n*B^2*L*U-4*h*u*H*L*U-2*n*H^2*L*U-2*h*u*L^2*U-2*n*B*L^2*U-2*n*H*L^2*U-2*h*H^2*P*U-4*h*H*L*P*U-2*h*L^2*P*U+2*n*B^2*H*W-2*h*u*H^2*W+2*n*B*H^2*W+2*n*B^2*L*W-4*h*u*H*L*W-2*n*H^2*L*W-2*h*u*L^2*W-2*n*B*L^2*W-2*n*H*L^2*W-2*h*H^2*P*W-4*h*H*L*P*W-2*h*L^2*P*W+4*n*B*H*U*eta+2*n*H^2*U*eta+4*n*B*L*U*eta-2*n*L^2*U*eta+4*n*B*H*W*eta+2*n*H^2*W*eta+4*n*B*L*W*eta-2*n*L^2*W*eta+2*n*H*U*eta^2+2*n*L*U*eta^2+2*n*H*W*eta^2+2*n*L*W*eta^2-12*n*B^2*H+3*h*u*H^2-4*n*x*H^2-12*n*B*H^2-12*n*B^2*L+6*h*u*H*L-8*n*x*H*L+12*n*H^2*L+3*h*u*L^2-4*n*x*L^2+12*n*B*L^2+12*n*H*L^2+3*h*H^2*P+6*h*H*L*P+3*h*L^2*P-2*n*B^2*U+10*h*u*H*U-6*h*B*H*U-20*n*B*H*U+5*B^2*H*U-8*n*H^2*U+16*u*H^2*U+5*B*H^2*U+10*h*u*L*U-6*h*B*L*U-16*n*B*L*U+5*B^2*L*U+6*h*H*L*U+4*n*H*L*U+32*u*H*L*U-5*H^2*L*U+6*h*L^2*U+10*n*L^2*U+16*u*L^2*U-5*B*L^2*U-5*H*L^2*U+10*h*H*P*U+16*H^2*P*U+10*h*L*P*U+32*H*L*P*U+16*L^2*P*U-2*n*B^2*W+10*h*u*H*W-6*h*B*H*W-20*n*B*H*W+5*B^2*H*W-8*n*H^2*W+16*u*H^2*W+5*B*H^2*W+10*h*u*L*W-6*h*B*L*W-16*n*B*L*W+5*B^2*L*W+6*h*H*L*W+4*n*H*L*W+32*u*H*L*W-5*H^2*L*W+6*h*L^2*W+10*n*L^2*W+16*u*L^2*W-5*B*L^2*W-5*H*L^2*W+10*h*H*P*W+16*H^2*P*W+10*h*L*P*W+32*H*L*P*W+16*L^2*P*W-24*n*B*H*eta-12*n*H^2*eta-24*n*B*L*eta+12*n*L^2*eta-4*n*B*U*eta-6*h*H*U*eta-20*n*H*U*eta+10*B*H*U*eta+5*H^2*U*eta-6*h*L*U*eta-16*n*L*U*eta+10*B*L*U*eta-5*L^2*U*eta-4*n*B*W*eta-6*h*H*W*eta-20*n*H*W*eta+10*B*H*W*eta+5*H^2*W*eta-6*h*L*W*eta-16*n*L*W*eta+10*B*L*W*eta-5*L^2*W*eta-12*n*H*eta^2-12*n*L*eta^2-2*n*U*eta^2+5*H*U*eta^2+5*L*U*eta^2-2*n*W*eta^2+5*H*W*eta^2+5*L*W*eta^2-8*n^2*u+8*n^2*B-24*n*u*B+48*n*B^2-36*B^2*E-26*h^2*H+24*h*u*H-12*n*u*H+4*n*x*H+75*h*B*H+120*n*B*H-54*u*B*H-30*B^2*H+39*h*H^2+52*n*H^2-96*u*H^2-10*x*H^2-30*B*H^2-26*h^2*L-8*n^2*L+24*h*u*L+12*n*u*L+4*n*x*L+75*h*B*L+24*n*B*L-54*u*B*L-30*B^2*L+72*B*E*L+3*h*H*L-16*n*H*L-138*u*H*L-20*x*H*L+30*H^2*L-36*h*L^2-20*n*L^2-42*u*L^2-10*x*L^2+30*B*L^2-36*E*L^2+30*H*L^2-8*n^2*P-24*n*B*P+24*h*H*P-12*n*H*P-54*B*H*P-96*H^2*P+24*h*L*P+12*n*L*P-54*B*L*P-138*H*L*P-42*L^2*P-8*h*u*U+6*h*B*U+18*n*B*U+12*u*B*U-5*B^2*U+48*n*H*U-64*u*H*U-9*B*H*U-36*H^2*U-6*h*L*U+30*n*L*U-76*u*L*U+B*L*U-63*H*L*U-32*L^2*U-8*h*P*U+12*B*P*U-64*H*P*U-76*L*P*U-8*h*u*W+6*h*B*W+18*n*B*W+12*u*B*W-5*B^2*W+48*n*H*W-64*u*H*W-9*B*H*W-36*H^2*W-6*h*L*W+30*n*L*W-76*u*L*W+B*L*W-63*H*L*W-32*L^2*W-8*h*P*W+12*B*P*W-64*H*P*W-76*L*P*W-36*B^2*alpha+72*B*L*alpha-36*L^2*alpha+8*n^2*eta-24*n*u*eta+96*n*B*eta-72*B*E*eta+75*h*H*eta+120*n*H*eta-54*u*H*eta-60*B*H*eta-30*H^2*eta+75*h*L*eta+24*n*L*eta-54*u*L*eta-60*B*L*eta+72*E*L*eta+30*L^2*eta-24*n*P*eta-54*H*P*eta-54*L*P*eta+6*h*U*eta+18*n*U*eta+12*u*U*eta-10*B*U*eta-9*H*U*eta+L*U*eta+12*P*U*eta+6*h*W*eta+18*n*W*eta+12*u*W*eta-10*B*W*eta-9*H*W*eta+L*W*eta+12*P*W*eta-72*B*alpha*eta+72*L*alpha*eta+48*n*eta^2-36*E*eta^2-30*H*eta^2-30*L*eta^2-5*U*eta^2-5*W*eta^2-36*alpha*eta^2+104*h^2-144*h*u+44*n*u-228*h*B-96*n*B+168*u*B+120*B^2+90*B*E-208*h*H-256*n*H+378*u*H+40*x*H+138*B*H+202*H^2+20*h*L-160*n*L+210*u*L+40*x*L-102*B*L-90*E*L+266*H*L+184*L^2-144*h*P+44*n*P+168*B*P+378*H*P+210*L*P-40*n*U-44*B*U+116*H*U+160*L*U-40*n*W-44*B*W+116*H*W+160*L*W+90*B*alpha-90*L*alpha-228*h*eta-96*n*eta+168*u*eta+240*B*eta+90*E*eta+138*H*eta-102*L*eta+168*P*eta-44*U*eta-44*W*eta+90*alpha*eta+120*eta^2+208*h+60*n+24*u-182*B-702*H-520*L+24*P+112*U+112*W-182*eta-424\n",
       "   _[74]=2*n^2*B*H*U+2*n^2*H^2*U-4*n*E*H^2*U+2*n^2*B*L*U+2*n^2*H*L*U-8*n*E*H*L*U-4*n*E*L^2*U+2*n^2*B*H*W+2*n^2*H^2*W-4*n*E*H^2*W+2*n^2*B*L*W+2*n^2*H*L*W-8*n*E*H*L*W-4*n*E*L^2*W-4*n*H^2*U*alpha-8*n*H*L*U*alpha-4*n*L^2*U*alpha-4*n*H^2*W*alpha-8*n*H*L*W*alpha-4*n*L^2*W*alpha+2*n^2*H*U*eta+2*n^2*L*U*eta+2*n^2*H*W*eta+2*n^2*L*W*eta+4*n^2*x*H-12*n^2*B*H-12*n^2*H^2+24*n*E*H^2+4*n^2*x*L-12*n^2*B*L-12*n^2*H*L+48*n*E*H*L+24*n*E*L^2-2*n^2*B*U-12*n^2*H*U+n*B*H*U+8*n*E*H*U+n*H^2*U+8*E*H^2*U-10*n^2*L*U+n*B*L*U+8*n*E*L*U+n*H*L*U+16*E*H*L*U+8*E*L^2*U-2*n^2*B*W-12*n^2*H*W+n*B*H*W+8*n*E*H*W+n*H^2*W+8*E*H^2*W-10*n^2*L*W+n*B*L*W+8*n*E*L*W+n*H*L*W+16*E*H*L*W+8*E*L^2*W+24*n*H^2*alpha+48*n*H*L*alpha+24*n*L^2*alpha+8*n*H*U*alpha+8*H^2*U*alpha+8*n*L*U*alpha+16*H*L*U*alpha+8*L^2*U*alpha+8*n*H*W*alpha+8*H^2*W*alpha+8*n*L*W*alpha+16*H*L*W*alpha+8*L^2*W*alpha-12*n^2*H*eta-12*n^2*L*eta-2*n^2*U*eta+n*H*U*eta+n*L*U*eta-2*n^2*W*eta+n*H*W*eta+n*L*W*eta-24*n^2*u-4*n^2*x+48*n^2*B-36*n*B*E+68*n^2*H-36*n*u*H+10*n*x*H-24*n*B*H-18*h*E*H-48*n*E*H-24*n*H^2-21*E*H^2+20*n^2*L-36*n*u*L+10*n*x*L-24*n*B*L-18*h*E*L-12*n*E*L-24*n*H*L-42*E*H*L-21*E*L^2-24*n^2*P-36*n*H*P-36*n*L*P+10*n^2*U+12*n*u*U-n*B*U-4*n*E*U+35*n*H*U-10*B*H*U-40*E*H*U-10*H^2*U+36*n*L*U-10*B*L*U-40*E*L*U-10*H*L*U+12*n*P*U+10*n^2*W+12*n*u*W-n*B*W-4*n*E*W+35*n*H*W-10*B*H*W-40*E*H*W-10*H^2*W+36*n*L*W-10*B*L*W-40*E*L*W-10*H*L*W+12*n*P*W-36*n*B*alpha-18*h*H*alpha-48*n*H*alpha-21*H^2*alpha-18*h*L*alpha-12*n*L*alpha-42*H*L*alpha-21*L^2*alpha-4*n*U*alpha-40*H*U*alpha-40*L*U*alpha-4*n*W*alpha-40*H*W*alpha-40*L*W*alpha+48*n^2*eta-36*n*E*eta-24*n*H*eta-24*n*L*eta-n*U*eta-10*H*U*eta-10*L*U*eta-n*W*eta-10*H*W*eta-10*L*W*eta-36*n*alpha*eta-20*n^2-36*n*u-40*n*x+276*n*B+72*h*E+24*n*E-198*B*E+108*h*H+86*n*H-162*u*H+15*B*H+60*E*H+15*H^2+108*h*L-190*n*L-162*u*L+15*B*L+258*E*L+15*H*L-36*n*P-162*H*P-162*L*P-84*n*U+10*B*U+32*E*U+50*H*U+40*L*U-84*n*W+10*B*W+32*E*W+50*H*W+40*L*W+72*h*alpha+24*n*alpha-198*B*alpha+60*H*alpha+258*L*alpha+32*U*alpha+32*W*alpha+276*n*eta-198*E*eta+15*H*eta+15*L*eta+10*U*eta+10*W*eta-198*alpha*eta-432*h+4*n+648*u+390*B+96*E+330*H-60*L+648*P-40*U-40*W+96*alpha+390*eta-1560\n",
       "   _[75]=8*h^4*H-27*h*u^3*H-12*h^3*B*H+27*h*u^2*B*H-12*h^3*H^2+27*h*u^2*H^2+8*h^4*L-27*h*u^3*L-12*h^3*B*L+27*h*u^2*B*L-12*h^3*H*L+27*h*u^2*H*L-81*h*u^2*H*P+54*h*u*B*H*P+54*h*u*H^2*P-81*h*u^2*L*P+54*h*u*B*L*P+54*h*u*H*L*P-81*h*u*H*P^2+27*h*B*H*P^2+27*h*H^2*P^2-81*h*u*L*P^2+27*h*B*L*P^2+27*h*H*L*P^2-27*h*H*P^3-27*h*L*P^3-12*h^2*u*B*U+12*h^2*B^2*U+18*h*u*B^2*U-18*h*B^3*U+28*h^2*B*H*U-36*h*B^2*H*U+16*h^2*H^2*U-18*h*u*H^2*U-18*h*B*H^2*U+12*h^2*u*L*U+4*h^2*B*L*U-36*h*u*B*L*U+18*h*B^2*L*U+4*h^2*H*L*U-36*h*u*H*L*U+36*h*B*H*L*U+18*h*H^2*L*U-12*h^2*B*P*U+18*h*B^2*P*U-18*h*H^2*P*U+12*h^2*L*P*U-36*h*B*L*P*U-36*h*H*L*P*U-12*h^2*u*B*W+12*h^2*B^2*W+18*h*u*B^2*W-18*h*B^3*W+28*h^2*B*H*W-36*h*B^2*H*W+16*h^2*H^2*W-18*h*u*H^2*W-18*h*B*H^2*W+12*h^2*u*L*W+4*h^2*B*L*W-36*h*u*B*L*W+18*h*B^2*L*W+4*h^2*H*L*W-36*h*u*H*L*W+36*h*B*H*L*W+18*h*H^2*L*W-12*h^2*B*P*W+18*h*B^2*P*W-18*h*H^2*P*W+12*h^2*L*P*W-36*h*B*L*P*W-36*h*H*L*P*W-12*h^3*H*eta+27*h*u^2*H*eta-12*h^3*L*eta+27*h*u^2*L*eta+54*h*u*H*P*eta+54*h*u*L*P*eta+27*h*H*P^2*eta+27*h*L*P^2*eta-12*h^2*u*U*eta+24*h^2*B*U*eta+36*h*u*B*U*eta-54*h*B^2*U*eta+28*h^2*H*U*eta-72*h*B*H*U*eta-18*h*H^2*U*eta+4*h^2*L*U*eta-36*h*u*L*U*eta+36*h*B*L*U*eta+36*h*H*L*U*eta-12*h^2*P*U*eta+36*h*B*P*U*eta-36*h*L*P*U*eta-12*h^2*u*W*eta+24*h^2*B*W*eta+36*h*u*B*W*eta-54*h*B^2*W*eta+28*h^2*H*W*eta-72*h*B*H*W*eta-18*h*H^2*W*eta+4*h^2*L*W*eta-36*h*u*L*W*eta+36*h*B*L*W*eta+36*h*H*L*W*eta-12*h^2*P*W*eta+36*h*B*P*W*eta-36*h*L*P*W*eta+12*h^2*U*eta^2+18*h*u*U*eta^2-54*h*B*U*eta^2-36*h*H*U*eta^2+18*h*L*U*eta^2+18*h*P*U*eta^2+12*h^2*W*eta^2+18*h*u*W*eta^2-54*h*B*W*eta^2-36*h*H*W*eta^2+18*h*L*W*eta^2+18*h*P*W*eta^2-18*h*U*eta^3-18*h*W*eta^3-32*h^4+108*h*u^3+84*h^3*B+102*h^2*u*B-144*h*u^2*B-54*u^3*B-156*h^2*B^2-117*h*u*B^2+108*u^2*B^2+153*h*B^3-54*u*B^3+72*h^3*H-27*h*u^2*H-240*h^2*B*H-90*h*u*B*H+108*u^2*B*H+306*h*B^2*H-108*u*B^2*H-84*h^2*H^2+27*h*u*H^2+153*h*B*H^2-54*u*B*H^2-12*h^3*L-102*h^2*u*L+117*h*u^2*L+54*u^3*L+72*h^2*B*L+144*h*u*B*L-108*u^2*B*L-153*h*B^2*L+54*u*B^2*L+72*h^2*H*L+144*h*u*H*L-108*u^2*H*L-306*h*B*H*L+108*u*B*H*L-153*h*H^2*L+54*u*H^2*L+324*h*u^2*P+102*h^2*B*P-288*h*u*B*P-162*u^2*B*P-117*h*B^2*P+216*u*B^2*P-54*B^3*P-54*h*u*H*P-90*h*B*H*P+216*u*B*H*P-108*B^2*H*P+27*h*H^2*P-54*B*H^2*P-102*h^2*L*P+234*h*u*L*P+162*u^2*L*P+144*h*B*L*P-216*u*B*L*P+54*B^2*L*P+144*h*H*L*P-216*u*H*L*P+108*B*H*L*P+54*H^2*L*P+324*h*u*P^2-144*h*B*P^2-162*u*B*P^2+108*B^2*P^2-27*h*H*P^2+108*B*H*P^2+117*h*L*P^2+162*u*L*P^2-108*B*L*P^2-108*H*L*P^2+108*h*P^3-54*B*P^3+54*L*P^3-28*h^2*B*U+42*h*u*B*U-6*h*B^2*U-48*u*B^2*U+48*B^3*U-80*h^2*H*U+90*h*u*H*U+10*h*B*H*U+96*B^2*H*U+16*h*H^2*U+48*u*H^2*U+48*B*H^2*U-52*h^2*L*U+48*h*u*L*U+22*h*B*L*U+96*u*B*L*U-48*B^2*L*U+22*h*H*L*U+96*u*H*L*U-96*B*H*L*U-48*H^2*L*U+42*h*B*P*U-48*B^2*P*U+90*h*H*P*U+48*H^2*P*U+48*h*L*P*U+96*B*L*P*U+96*H*L*P*U-28*h^2*B*W+42*h*u*B*W-6*h*B^2*W-48*u*B^2*W+48*B^3*W-80*h^2*H*W+90*h*u*H*W+10*h*B*H*W+96*B^2*H*W+16*h*H^2*W+48*u*H^2*W+48*B*H^2*W-52*h^2*L*W+48*h*u*L*W+22*h*B*L*W+96*u*B*L*W-48*B^2*L*W+22*h*H*L*W+96*u*H*L*W-96*B*H*L*W-48*H^2*L*W+42*h*B*P*W-48*B^2*P*W+90*h*H*P*W+48*H^2*P*W+48*h*L*P*W+96*B*L*P*W+96*H*L*P*W+84*h^3*eta+102*h^2*u*eta-144*h*u^2*eta-54*u^3*eta-312*h^2*B*eta-234*h*u*B*eta+216*u^2*B*eta+459*h*B^2*eta-162*u*B^2*eta-240*h^2*H*eta-90*h*u*H*eta+108*u^2*H*eta+612*h*B*H*eta-216*u*B*H*eta+153*h*H^2*eta-54*u*H^2*eta+72*h^2*L*eta+144*h*u*L*eta-108*u^2*L*eta-306*h*B*L*eta+108*u*B*L*eta-306*h*H*L*eta+108*u*H*L*eta+102*h^2*P*eta-288*h*u*P*eta-162*u^2*P*eta-234*h*B*P*eta+432*u*B*P*eta-162*B^2*P*eta-90*h*H*P*eta+216*u*H*P*eta-216*B*H*P*eta-54*H^2*P*eta+144*h*L*P*eta-216*u*L*P*eta+108*B*L*P*eta+108*H*L*P*eta-144*h*P^2*eta-162*u*P^2*eta+216*B*P^2*eta+108*H*P^2*eta-108*L*P^2*eta-54*P^3*eta-28*h^2*U*eta+42*h*u*U*eta-12*h*B*U*eta-96*u*B*U*eta+144*B^2*U*eta+10*h*H*U*eta+192*B*H*U*eta+48*H^2*U*eta+22*h*L*U*eta+96*u*L*U*eta-96*B*L*U*eta-96*H*L*U*eta+42*h*P*U*eta-96*B*P*U*eta+96*L*P*U*eta-28*h^2*W*eta+42*h*u*W*eta-12*h*B*W*eta-96*u*B*W*eta+144*B^2*W*eta+10*h*H*W*eta+192*B*H*W*eta+48*H^2*W*eta+22*h*L*W*eta+96*u*L*W*eta-96*B*L*W*eta-96*H*L*W*eta+42*h*P*W*eta-96*B*P*W*eta+96*L*P*W*eta-156*h^2*eta^2-117*h*u*eta^2+108*u^2*eta^2+459*h*B*eta^2-162*u*B*eta^2+306*h*H*eta^2-108*u*H*eta^2-153*h*L*eta^2+54*u*L*eta^2-117*h*P*eta^2+216*u*P*eta^2-162*B*P*eta^2-108*H*P*eta^2+54*L*P*eta^2+108*P^2*eta^2-6*h*U*eta^2-48*u*U*eta^2+144*B*U*eta^2+96*H*U*eta^2-48*L*U*eta^2-48*P*U*eta^2-6*h*W*eta^2-48*u*W*eta^2+144*B*W*eta^2+96*H*W*eta^2-48*L*W*eta^2-48*P*W*eta^2+153*h*eta^3-54*u*eta^3-54*P*eta^3+48*U*eta^3+48*W*eta^3-96*h^3-324*h*u^2+168*h^2*B+240*h*u*B+18*u^2*B+12*h*B^2+198*u*B^2-216*B^3+288*h^2*H-72*h*u*H+84*h*B*H-90*u*B*H-432*B^2*H+72*h*H^2-288*u*H^2-216*B*H^2+120*h^2*L-312*h*u*L-18*u^2*L+60*h*B*L-486*u*B*L+216*B^2*L+60*h*H*L-486*u*H*L+432*B*H*L+216*H^2*L-648*h*u*P+240*h*B*P+36*u*B*P+198*B^2*P-72*h*H*P-90*B*H*P-288*H^2*P-312*h*L*P-36*u*L*P-486*B*L*P-486*H*L*P-324*h*P^2+18*B*P^2-18*L*P^2+64*h^2*U-72*h*u*U+8*h*B*U-96*B^2*U-80*h*H*U-240*u*H*U-288*B*H*U-192*H^2*U-88*h*L*U-240*u*L*U-96*B*L*U-96*H*L*U-72*h*P*U-240*H*P*U-240*L*P*U+64*h^2*W-72*h*u*W+8*h*B*W-96*B^2*W-80*h*H*W-240*u*H*W-288*B*H*W-192*H^2*W-88*h*L*W-240*u*L*W-96*B*L*W-96*H*L*W-72*h*P*W-240*H*P*W-240*L*P*W+168*h^2*eta+240*h*u*eta+18*u^2*eta+24*h*B*eta+396*u*B*eta-648*B^2*eta+84*h*H*eta-90*u*H*eta-864*B*H*eta-216*H^2*eta+60*h*L*eta-486*u*L*eta+432*B*L*eta+432*H*L*eta+240*h*P*eta+36*u*P*eta+396*B*P*eta-90*H*P*eta-486*L*P*eta+18*P^2*eta+8*h*U*eta-192*B*U*eta-288*H*U*eta-96*L*U*eta+8*h*W*eta-192*B*W*eta-288*H*W*eta-96*L*W*eta+12*h*eta^2+198*u*eta^2-648*B*eta^2-432*H*eta^2+216*L*eta^2+198*P*eta^2-96*U*eta^2-96*W*eta^2-216*eta^3+192*h^2-144*h*u-192*n*u-1056*h*B+192*n*B+480*u*B+312*B^2-448*h*H+1152*u*H+1176*B*H+864*H^2+608*h*L-192*n*L+672*u*L+552*B*L+552*H*L-144*h*P-192*n*P+480*B*P+1152*H*P+672*L*P+64*h*U+192*u*U+240*B*U+960*H*U+720*L*U+192*P*U+64*h*W+192*u*W+240*B*W+960*H*W+720*L*W+192*P*W-1056*h*eta+192*n*eta+480*u*eta+624*B*eta+1176*H*eta+552*L*eta+480*P*eta+240*U*eta+240*W*eta+312*eta^2+640*h-480*B-3840*H-3360*L-768*U-768*W-480*eta+1536"
      ]
     },
     "execution_count": 2,
     "metadata": {},
     "output_type": "execute_result"
    }
   ],
   "source": []
  },
  {
   "cell_type": "code",
   "execution_count": null,
   "metadata": {},
   "outputs": [],
   "source": []
  }
 ],
 "metadata": {
  "kernelspec": {
   "display_name": "SageMath 8.6",
   "language": "",
   "name": "sagemath"
  },
  "language_info": {
   "codemirror_mode": {
    "name": "ipython",
    "version": 2
   },
   "file_extension": ".py",
   "mimetype": "text/x-python",
   "name": "python",
   "nbconvert_exporter": "python",
   "pygments_lexer": "ipython2",
   "version": "2.7.15"
  }
 },
 "nbformat": 4,
 "nbformat_minor": 2
}
